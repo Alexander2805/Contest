{
 "cells": [
  {
   "cell_type": "code",
   "execution_count": 1,
   "metadata": {
    "ExecuteTime": {
     "end_time": "2020-04-27T22:34:47.269612Z",
     "start_time": "2020-04-27T22:34:44.208257Z"
    }
   },
   "outputs": [],
   "source": [
    "import statsmodels.formula.api as smf\n",
    "from sklearn import preprocessing\n",
    "import matplotlib.pyplot as plt\n",
    "import pandas as pd\n",
    "import numpy as np\n",
    "import re"
   ]
  },
  {
   "cell_type": "code",
   "execution_count": 2,
   "metadata": {
    "ExecuteTime": {
     "end_time": "2020-04-27T22:34:47.434837Z",
     "start_time": "2020-04-27T22:34:47.273616Z"
    }
   },
   "outputs": [],
   "source": [
    "def read_list(name_list):\n",
    "    df = pd.read_excel('Data.xlsx', sep = ',', sheet_name = name_list)\n",
    "    return df\n",
    "\n",
    "# def rename(df):\n",
    "#     rename = { col: re.split(r' ', col)[0] for col in df.columns }\n",
    "#     df.rename(columns=rename, inplace=True)\n",
    "#     return df\n",
    "\n",
    "def rename(df):\n",
    "    rename = { df.columns[0]:'Country', df.columns[1]:'GDP_per_capita', df.columns[2]: 'Current_health_expenditure', \\\n",
    "               df.columns[3]: 'Domestic_general_government_health_expenditure', df.columns[4]: 'Life_expectancy' }\n",
    "    df.rename(columns=rename, inplace=True)\n",
    "    return df\n",
    "\n",
    "list_name = ['Western Democracies', 'Asia', 'Latin America', 'Former Socialist', 'Middle East']\n",
    "df_W, df_A, df_L, df_F, df_M = map( lambda _list: read_list(_list), list_name )\n",
    "\n",
    "df = rename(df_W)"
   ]
  },
  {
   "cell_type": "code",
   "execution_count": 3,
   "metadata": {
    "ExecuteTime": {
     "end_time": "2020-04-27T22:34:47.452137Z",
     "start_time": "2020-04-27T22:34:47.443573Z"
    }
   },
   "outputs": [],
   "source": [
    "# df.head(3)"
   ]
  },
  {
   "cell_type": "markdown",
   "metadata": {},
   "source": [
    "# Задание 1\n",
    "## a)\n",
    "*(расскажите ему что такое вектор)*"
   ]
  },
  {
   "cell_type": "code",
   "execution_count": 4,
   "metadata": {
    "ExecuteTime": {
     "end_time": "2020-04-27T22:34:47.537631Z",
     "start_time": "2020-04-27T22:34:47.461614Z"
    }
   },
   "outputs": [
    {
     "data": {
      "text/plain": [
       "Intercept                                         84.060570\n",
       "GDP_per_capita                                     0.000018\n",
       "Current_health_expenditure                        -0.273304\n",
       "Domestic_general_government_health_expenditure    -0.079976\n",
       "dtype: float64"
      ]
     },
     "execution_count": 4,
     "metadata": {},
     "output_type": "execute_result"
    }
   ],
   "source": [
    "model = smf.ols(df.columns[4]+'~'+df.columns[1]+ '+' +df.columns[2]+ '+' +df.columns[3],data=df)\n",
    "fitted = model.fit()\n",
    "fitted.params"
   ]
  },
  {
   "cell_type": "code",
   "execution_count": 5,
   "metadata": {
    "ExecuteTime": {
     "end_time": "2020-04-27T22:34:47.556797Z",
     "start_time": "2020-04-27T22:34:47.542871Z"
    }
   },
   "outputs": [
    {
     "data": {
      "text/plain": [
       "0.36191903653554536"
      ]
     },
     "execution_count": 5,
     "metadata": {},
     "output_type": "execute_result"
    }
   ],
   "source": [
    "fitted.rsquared"
   ]
  },
  {
   "cell_type": "markdown",
   "metadata": {},
   "source": [
    "## Уравнение регрессии:\n",
    "**Y_ожидаемое(Life_expectancy) = 84.060570 + 0.000018 X_1(GDP_per_capita) - 0.273304 X_2(Current_health_expenditure) - 0.079976 X_3(Domestic_general_government_health_expenditure)**"
   ]
  },
  {
   "cell_type": "markdown",
   "metadata": {
    "ExecuteTime": {
     "end_time": "2020-04-27T13:12:12.395910Z",
     "start_time": "2020-04-27T13:12:12.384113Z"
    }
   },
   "source": [
    "# Ответ:\n",
    "##  $\\overline{b}$ = ( 0.000018, -0.273304, -0.079976 )\n",
    "##  $R^2$ = 0.36191903653554536"
   ]
  },
  {
   "cell_type": "markdown",
   "metadata": {},
   "source": [
    "# b)\n",
    "## мужик странный немног( говорит взять на один признак меньше, но какой именно он хочет выкинуть надо самим догадаться\n",
    "## ок, мне третий не очень нравится "
   ]
  },
  {
   "cell_type": "code",
   "execution_count": 6,
   "metadata": {
    "ExecuteTime": {
     "end_time": "2020-04-27T22:34:47.605116Z",
     "start_time": "2020-04-27T22:34:47.562327Z"
    }
   },
   "outputs": [
    {
     "data": {
      "text/plain": [
       "Intercept                     83.751386\n",
       "GDP_per_capita                 0.000018\n",
       "Current_health_expenditure    -0.298226\n",
       "dtype: float64"
      ]
     },
     "execution_count": 6,
     "metadata": {},
     "output_type": "execute_result"
    }
   ],
   "source": [
    "model = smf.ols(df.columns[4]+'~'+df.columns[1]+'+'+df.columns[2],data=df)\n",
    "fitted = model.fit()\n",
    "fitted.params"
   ]
  },
  {
   "cell_type": "code",
   "execution_count": 7,
   "metadata": {
    "ExecuteTime": {
     "end_time": "2020-04-27T22:34:47.631368Z",
     "start_time": "2020-04-27T22:34:47.612195Z"
    }
   },
   "outputs": [
    {
     "data": {
      "text/plain": [
       "0.34997395731273706"
      ]
     },
     "execution_count": 7,
     "metadata": {},
     "output_type": "execute_result"
    }
   ],
   "source": [
    "fitted.rsquared"
   ]
  },
  {
   "cell_type": "markdown",
   "metadata": {},
   "source": [
    "# Уравнение регрессии:\n",
    "**Y_ожидаемое(Life_expectancy) = 83.751386 + 0.000018 X_1(GDP_per_capita) - 0.298226 X_2(Current_health_expenditure)**"
   ]
  },
  {
   "cell_type": "markdown",
   "metadata": {},
   "source": [
    "# Ответ:\n",
    "##  $\\overline{b}$ = ( 0.000018, -0.298226 )\n",
    "##  $R^2$ = 0.34997395731273706"
   ]
  },
  {
   "cell_type": "markdown",
   "metadata": {},
   "source": [
    "# с)\n",
    "## опять подключаю рандом и выкидываю второй признак"
   ]
  },
  {
   "cell_type": "code",
   "execution_count": 8,
   "metadata": {
    "ExecuteTime": {
     "end_time": "2020-04-27T22:34:47.688084Z",
     "start_time": "2020-04-27T22:34:47.644343Z"
    }
   },
   "outputs": [
    {
     "data": {
      "text/plain": [
       "Intercept         81.122668\n",
       "GDP_per_capita     0.000009\n",
       "dtype: float64"
      ]
     },
     "execution_count": 8,
     "metadata": {},
     "output_type": "execute_result"
    }
   ],
   "source": [
    "model = smf.ols(df.columns[4]+'~'+df.columns[1],data=df)\n",
    "fitted = model.fit()\n",
    "fitted.params"
   ]
  },
  {
   "cell_type": "code",
   "execution_count": 9,
   "metadata": {
    "ExecuteTime": {
     "end_time": "2020-04-27T22:34:47.717679Z",
     "start_time": "2020-04-27T22:34:47.699806Z"
    }
   },
   "outputs": [
    {
     "data": {
      "text/plain": [
       "0.02384301849682824"
      ]
     },
     "execution_count": 9,
     "metadata": {},
     "output_type": "execute_result"
    }
   ],
   "source": [
    "fitted.rsquared"
   ]
  },
  {
   "cell_type": "markdown",
   "metadata": {},
   "source": [
    "# Уравнение регрессии:\n",
    "**Y_ожидаемое(Life_expectancy) = 81.122668 + 0.000009 X_1(GDP_per_capita)**"
   ]
  },
  {
   "cell_type": "markdown",
   "metadata": {},
   "source": [
    "# Ответ:\n",
    "##  $\\textit{b}$ = 0.000009\n",
    "##  $R^2$ = 0.02384301849682824"
   ]
  },
  {
   "cell_type": "markdown",
   "metadata": {},
   "source": [
    "# d)"
   ]
  },
  {
   "cell_type": "code",
   "execution_count": 10,
   "metadata": {
    "ExecuteTime": {
     "end_time": "2020-04-27T22:34:47.765780Z",
     "start_time": "2020-04-27T22:34:47.726549Z"
    }
   },
   "outputs": [
    {
     "data": {
      "text/html": [
       "<div>\n",
       "<style scoped>\n",
       "    .dataframe tbody tr th:only-of-type {\n",
       "        vertical-align: middle;\n",
       "    }\n",
       "\n",
       "    .dataframe tbody tr th {\n",
       "        vertical-align: top;\n",
       "    }\n",
       "\n",
       "    .dataframe thead th {\n",
       "        text-align: right;\n",
       "    }\n",
       "</style>\n",
       "<table border=\"1\" class=\"dataframe\">\n",
       "  <thead>\n",
       "    <tr style=\"text-align: right;\">\n",
       "      <th></th>\n",
       "      <th>GDP_per_capita</th>\n",
       "      <th>Current_health_expenditure</th>\n",
       "      <th>Domestic_general_government_health_expenditure</th>\n",
       "      <th>Life_expectancy</th>\n",
       "    </tr>\n",
       "  </thead>\n",
       "  <tbody>\n",
       "    <tr>\n",
       "      <td>GDP_per_capita</td>\n",
       "      <td>1.000000</td>\n",
       "      <td>0.231599</td>\n",
       "      <td>0.122092</td>\n",
       "      <td>0.154412</td>\n",
       "    </tr>\n",
       "    <tr>\n",
       "      <td>Current_health_expenditure</td>\n",
       "      <td>0.231599</td>\n",
       "      <td>1.000000</td>\n",
       "      <td>0.414644</td>\n",
       "      <td>-0.519790</td>\n",
       "    </tr>\n",
       "    <tr>\n",
       "      <td>Domestic_general_government_health_expenditure</td>\n",
       "      <td>0.122092</td>\n",
       "      <td>0.414644</td>\n",
       "      <td>1.000000</td>\n",
       "      <td>-0.307373</td>\n",
       "    </tr>\n",
       "    <tr>\n",
       "      <td>Life_expectancy</td>\n",
       "      <td>0.154412</td>\n",
       "      <td>-0.519790</td>\n",
       "      <td>-0.307373</td>\n",
       "      <td>1.000000</td>\n",
       "    </tr>\n",
       "  </tbody>\n",
       "</table>\n",
       "</div>"
      ],
      "text/plain": [
       "                                                GDP_per_capita  \\\n",
       "GDP_per_capita                                        1.000000   \n",
       "Current_health_expenditure                            0.231599   \n",
       "Domestic_general_government_health_expenditure        0.122092   \n",
       "Life_expectancy                                       0.154412   \n",
       "\n",
       "                                                Current_health_expenditure  \\\n",
       "GDP_per_capita                                                    0.231599   \n",
       "Current_health_expenditure                                        1.000000   \n",
       "Domestic_general_government_health_expenditure                    0.414644   \n",
       "Life_expectancy                                                  -0.519790   \n",
       "\n",
       "                                                Domestic_general_government_health_expenditure  \\\n",
       "GDP_per_capita                                                                        0.122092   \n",
       "Current_health_expenditure                                                            0.414644   \n",
       "Domestic_general_government_health_expenditure                                        1.000000   \n",
       "Life_expectancy                                                                      -0.307373   \n",
       "\n",
       "                                                Life_expectancy  \n",
       "GDP_per_capita                                         0.154412  \n",
       "Current_health_expenditure                            -0.519790  \n",
       "Domestic_general_government_health_expenditure        -0.307373  \n",
       "Life_expectancy                                        1.000000  "
      ]
     },
     "execution_count": 10,
     "metadata": {},
     "output_type": "execute_result"
    }
   ],
   "source": [
    "columns_name = [ df.columns[i] for i in range(1, 5)]\n",
    "df[columns_name].corr()"
   ]
  },
  {
   "cell_type": "markdown",
   "metadata": {},
   "source": [
    "# Ответ это табличка сверху\n",
    "**Надеюсь мы с ним под матрицей корреляций одно и тоже понимае**\n",
    "\n",
    "*(я вывел матрицу корреляции Пирсона)*"
   ]
  },
  {
   "cell_type": "markdown",
   "metadata": {},
   "source": [
    "#  "
   ]
  },
  {
   "cell_type": "markdown",
   "metadata": {},
   "source": [
    "# Задание 2\n",
    "## а)"
   ]
  },
  {
   "cell_type": "code",
   "execution_count": 11,
   "metadata": {
    "ExecuteTime": {
     "end_time": "2020-04-27T22:34:47.821162Z",
     "start_time": "2020-04-27T22:34:47.772562Z"
    }
   },
   "outputs": [
    {
     "data": {
      "text/html": [
       "<div>\n",
       "<style scoped>\n",
       "    .dataframe tbody tr th:only-of-type {\n",
       "        vertical-align: middle;\n",
       "    }\n",
       "\n",
       "    .dataframe tbody tr th {\n",
       "        vertical-align: top;\n",
       "    }\n",
       "\n",
       "    .dataframe thead th {\n",
       "        text-align: right;\n",
       "    }\n",
       "</style>\n",
       "<table border=\"1\" class=\"dataframe\">\n",
       "  <thead>\n",
       "    <tr style=\"text-align: right;\">\n",
       "      <th></th>\n",
       "      <th>Country</th>\n",
       "      <th>GDP_per_capita</th>\n",
       "      <th>Current_health_expenditure</th>\n",
       "      <th>Domestic_general_government_health_expenditure</th>\n",
       "      <th>Life_expectancy</th>\n",
       "    </tr>\n",
       "  </thead>\n",
       "  <tbody>\n",
       "    <tr>\n",
       "      <td>0</td>\n",
       "      <td>Australia</td>\n",
       "      <td>0.373606</td>\n",
       "      <td>-0.450756</td>\n",
       "      <td>-0.554736</td>\n",
       "      <td>0.845750</td>\n",
       "    </tr>\n",
       "    <tr>\n",
       "      <td>1</td>\n",
       "      <td>Austria</td>\n",
       "      <td>-0.083721</td>\n",
       "      <td>0.102739</td>\n",
       "      <td>0.243189</td>\n",
       "      <td>-0.405905</td>\n",
       "    </tr>\n",
       "    <tr>\n",
       "      <td>2</td>\n",
       "      <td>Belgium</td>\n",
       "      <td>-0.227122</td>\n",
       "      <td>0.056665</td>\n",
       "      <td>0.561666</td>\n",
       "      <td>-0.610308</td>\n",
       "    </tr>\n",
       "    <tr>\n",
       "      <td>3</td>\n",
       "      <td>Canada</td>\n",
       "      <td>0.072487</td>\n",
       "      <td>0.177849</td>\n",
       "      <td>0.470238</td>\n",
       "      <td>0.328433</td>\n",
       "    </tr>\n",
       "    <tr>\n",
       "      <td>4</td>\n",
       "      <td>Denmark</td>\n",
       "      <td>0.707465</td>\n",
       "      <td>0.028825</td>\n",
       "      <td>0.998962</td>\n",
       "      <td>-0.910604</td>\n",
       "    </tr>\n",
       "    <tr>\n",
       "      <td>5</td>\n",
       "      <td>Finland</td>\n",
       "      <td>-0.217595</td>\n",
       "      <td>-0.246092</td>\n",
       "      <td>0.255792</td>\n",
       "      <td>-0.105608</td>\n",
       "    </tr>\n",
       "    <tr>\n",
       "      <td>6</td>\n",
       "      <td>France</td>\n",
       "      <td>-0.461610</td>\n",
       "      <td>0.676331</td>\n",
       "      <td>1.121215</td>\n",
       "      <td>0.764998</td>\n",
       "    </tr>\n",
       "    <tr>\n",
       "      <td>7</td>\n",
       "      <td>Germany</td>\n",
       "      <td>-0.238535</td>\n",
       "      <td>0.481296</td>\n",
       "      <td>0.944001</td>\n",
       "      <td>-0.973691</td>\n",
       "    </tr>\n",
       "    <tr>\n",
       "      <td>8</td>\n",
       "      <td>Greece</td>\n",
       "      <td>-1.662863</td>\n",
       "      <td>-1.094552</td>\n",
       "      <td>-1.733428</td>\n",
       "      <td>-0.564885</td>\n",
       "    </tr>\n",
       "    <tr>\n",
       "      <td>9</td>\n",
       "      <td>Iceland</td>\n",
       "      <td>-0.107831</td>\n",
       "      <td>-1.061711</td>\n",
       "      <td>-0.392532</td>\n",
       "      <td>0.916408</td>\n",
       "    </tr>\n",
       "    <tr>\n",
       "      <td>10</td>\n",
       "      <td>Ireland</td>\n",
       "      <td>1.023030</td>\n",
       "      <td>-1.490907</td>\n",
       "      <td>-1.291605</td>\n",
       "      <td>-0.133367</td>\n",
       "    </tr>\n",
       "    <tr>\n",
       "      <td>11</td>\n",
       "      <td>Italy</td>\n",
       "      <td>-0.951136</td>\n",
       "      <td>-0.622476</td>\n",
       "      <td>-0.313042</td>\n",
       "      <td>0.994636</td>\n",
       "    </tr>\n",
       "    <tr>\n",
       "      <td>12</td>\n",
       "      <td>Netherlands</td>\n",
       "      <td>0.172351</td>\n",
       "      <td>0.079690</td>\n",
       "      <td>-0.303833</td>\n",
       "      <td>-0.075326</td>\n",
       "    </tr>\n",
       "    <tr>\n",
       "      <td>13</td>\n",
       "      <td>Norway</td>\n",
       "      <td>2.565954</td>\n",
       "      <td>-0.033341</td>\n",
       "      <td>1.023080</td>\n",
       "      <td>0.747334</td>\n",
       "    </tr>\n",
       "    <tr>\n",
       "      <td>14</td>\n",
       "      <td>Portugal</td>\n",
       "      <td>-1.700336</td>\n",
       "      <td>-0.630986</td>\n",
       "      <td>-0.845419</td>\n",
       "      <td>-0.474039</td>\n",
       "    </tr>\n",
       "    <tr>\n",
       "      <td>15</td>\n",
       "      <td>Spain</td>\n",
       "      <td>-1.165145</td>\n",
       "      <td>-0.558765</td>\n",
       "      <td>-0.462303</td>\n",
       "      <td>1.292409</td>\n",
       "    </tr>\n",
       "    <tr>\n",
       "      <td>16</td>\n",
       "      <td>Sweden</td>\n",
       "      <td>0.440074</td>\n",
       "      <td>0.436990</td>\n",
       "      <td>1.385052</td>\n",
       "      <td>0.643870</td>\n",
       "    </tr>\n",
       "    <tr>\n",
       "      <td>17</td>\n",
       "      <td>Switzerland</td>\n",
       "      <td>1.720614</td>\n",
       "      <td>0.899835</td>\n",
       "      <td>-2.439220</td>\n",
       "      <td>1.360544</td>\n",
       "    </tr>\n",
       "    <tr>\n",
       "      <td>18</td>\n",
       "      <td>United Kingdom</td>\n",
       "      <td>-0.446320</td>\n",
       "      <td>-0.255173</td>\n",
       "      <td>0.405829</td>\n",
       "      <td>-0.648160</td>\n",
       "    </tr>\n",
       "    <tr>\n",
       "      <td>19</td>\n",
       "      <td>United States</td>\n",
       "      <td>0.186634</td>\n",
       "      <td>3.504541</td>\n",
       "      <td>0.927095</td>\n",
       "      <td>-2.992489</td>\n",
       "    </tr>\n",
       "  </tbody>\n",
       "</table>\n",
       "</div>"
      ],
      "text/plain": [
       "           Country  GDP_per_capita  Current_health_expenditure  \\\n",
       "0        Australia        0.373606                   -0.450756   \n",
       "1          Austria       -0.083721                    0.102739   \n",
       "2          Belgium       -0.227122                    0.056665   \n",
       "3           Canada        0.072487                    0.177849   \n",
       "4          Denmark        0.707465                    0.028825   \n",
       "5          Finland       -0.217595                   -0.246092   \n",
       "6           France       -0.461610                    0.676331   \n",
       "7          Germany       -0.238535                    0.481296   \n",
       "8           Greece       -1.662863                   -1.094552   \n",
       "9          Iceland       -0.107831                   -1.061711   \n",
       "10         Ireland        1.023030                   -1.490907   \n",
       "11           Italy       -0.951136                   -0.622476   \n",
       "12     Netherlands        0.172351                    0.079690   \n",
       "13          Norway        2.565954                   -0.033341   \n",
       "14        Portugal       -1.700336                   -0.630986   \n",
       "15           Spain       -1.165145                   -0.558765   \n",
       "16          Sweden        0.440074                    0.436990   \n",
       "17     Switzerland        1.720614                    0.899835   \n",
       "18  United Kingdom       -0.446320                   -0.255173   \n",
       "19   United States        0.186634                    3.504541   \n",
       "\n",
       "    Domestic_general_government_health_expenditure  Life_expectancy  \n",
       "0                                        -0.554736         0.845750  \n",
       "1                                         0.243189        -0.405905  \n",
       "2                                         0.561666        -0.610308  \n",
       "3                                         0.470238         0.328433  \n",
       "4                                         0.998962        -0.910604  \n",
       "5                                         0.255792        -0.105608  \n",
       "6                                         1.121215         0.764998  \n",
       "7                                         0.944001        -0.973691  \n",
       "8                                        -1.733428        -0.564885  \n",
       "9                                        -0.392532         0.916408  \n",
       "10                                       -1.291605        -0.133367  \n",
       "11                                       -0.313042         0.994636  \n",
       "12                                       -0.303833        -0.075326  \n",
       "13                                        1.023080         0.747334  \n",
       "14                                       -0.845419        -0.474039  \n",
       "15                                       -0.462303         1.292409  \n",
       "16                                        1.385052         0.643870  \n",
       "17                                       -2.439220         1.360544  \n",
       "18                                        0.405829        -0.648160  \n",
       "19                                        0.927095        -2.992489  "
      ]
     },
     "execution_count": 11,
     "metadata": {},
     "output_type": "execute_result"
    }
   ],
   "source": [
    "df_standardized = preprocessing.scale(df.drop(['Country'], axis=1))\n",
    "df_standardized = pd.DataFrame(df_standardized)\n",
    "rename_new = { df_standardized.columns[i]: df.columns[i+1] for i in range(4) }\n",
    "df_standardized.rename(columns=rename_new, inplace=True)\n",
    "df = pd.merge(df['Country'], df_standardized, right_index=True, left_index=True)\n",
    "df"
   ]
  },
  {
   "cell_type": "markdown",
   "metadata": {},
   "source": [
    "# Ответ это табличка сверху"
   ]
  },
  {
   "cell_type": "markdown",
   "metadata": {},
   "source": [
    "# b)"
   ]
  },
  {
   "cell_type": "code",
   "execution_count": 12,
   "metadata": {
    "ExecuteTime": {
     "end_time": "2020-04-27T22:34:47.878881Z",
     "start_time": "2020-04-27T22:34:47.828524Z"
    }
   },
   "outputs": [
    {
     "name": "stdout",
     "output_type": "stream",
     "text": [
      "Intercept                                         1.498801e-15\n",
      "GDP_per_capita                                    2.936787e-01\n",
      "Current_health_expenditure                       -5.379835e-01\n",
      "Domestic_general_government_health_expenditure   -1.201571e-01\n",
      "dtype: float64 0.36191903653554247\n"
     ]
    }
   ],
   "source": [
    "model = smf.ols(df.columns[4]+'~'+df.columns[1]+'+'+df.columns[2]+'+'+df.columns[3],data=df)\n",
    "fitted = model.fit()\n",
    "print(fitted.params, fitted.rsquared)"
   ]
  },
  {
   "cell_type": "code",
   "execution_count": 13,
   "metadata": {
    "ExecuteTime": {
     "end_time": "2020-04-27T22:34:47.916227Z",
     "start_time": "2020-04-27T22:34:47.883770Z"
    }
   },
   "outputs": [
    {
     "name": "stdout",
     "output_type": "stream",
     "text": [
      "Intercept                     1.484923e-15\n",
      "GDP_per_capita                2.903698e-01\n",
      "Current_health_expenditure   -5.870396e-01\n",
      "dtype: float64 0.3499739573127365\n"
     ]
    }
   ],
   "source": [
    "model = smf.ols(df.columns[4]+'~'+df.columns[1]+'+'+df.columns[2],data=df)\n",
    "fitted = model.fit()\n",
    "print(fitted.params, fitted.rsquared)"
   ]
  },
  {
   "cell_type": "code",
   "execution_count": 14,
   "metadata": {
    "ExecuteTime": {
     "end_time": "2020-04-27T22:34:47.947466Z",
     "start_time": "2020-04-27T22:34:47.921556Z"
    }
   },
   "outputs": [
    {
     "name": "stdout",
     "output_type": "stream",
     "text": [
      "Intercept         1.484923e-15\n",
      "GDP_per_capita    1.544118e-01\n",
      "dtype: float64 0.023843018496828017\n"
     ]
    }
   ],
   "source": [
    "model = smf.ols(df.columns[4]+'~'+df.columns[1],data=df)\n",
    "fitted = model.fit()\n",
    "print(fitted.params, fitted.rsquared)"
   ]
  },
  {
   "cell_type": "markdown",
   "metadata": {},
   "source": [
    "## Уравнения регрессии:\n",
    "**Y_ожидаемое(Life_expectancy) = 1.498801e-15 + 2.936787e-01 X_1(GDP_per_capita) - 5.379835e-01 X_2(Current_health_expenditure) - 1.201571e-01 X_3(Domestic_general_government_health_expenditure)**\n",
    "\n",
    "**Y_ожидаемое(Life_expectancy) = 1.484923e-15 + 2.903698e-01 X_1(GDP_per_capita) - 5.870396e-01 X_2(Current_health_expenditure)**\n",
    "\n",
    "**Y_ожидаемое(Life_expectancy) = 1.484923e-15 + 1.544118e-01 X_1(GDP_per_capita)**"
   ]
  },
  {
   "cell_type": "markdown",
   "metadata": {},
   "source": [
    "# Ответ:\n",
    "##  $\\overline{b}$ = ( 2.936787e-01, -5.379835e-01, -1.201571e-01 )\n",
    "##  $R^2$ = 0.36191903653554247"
   ]
  },
  {
   "cell_type": "markdown",
   "metadata": {},
   "source": [
    "##  $\\overline{b}$ = ( 2.903698e-01, -5.870396e-01 )\n",
    "##  $R^2$ = 0.3499739573127365"
   ]
  },
  {
   "cell_type": "markdown",
   "metadata": {},
   "source": [
    "##  $\\textit{b}$ = 1.544118e-01\n",
    "##  $R^2$ = 0.023843018496828017\n",
    "\n",
    "*(Я так понял, что \"b\" из первого задания и \"$\\beta$\" из второго у него одно и то же)*"
   ]
  },
  {
   "cell_type": "markdown",
   "metadata": {},
   "source": [
    "# c)\n",
    "**Чот не понятно что сравнивать( задание максимально стремное**"
   ]
  },
  {
   "cell_type": "markdown",
   "metadata": {},
   "source": [
    "# Ответ:\n",
    "##  При переходе от трех к двум переменным модуль $\\overline{b}$ совсем немного увеличился и резко уменьшился для одной переменной"
   ]
  },
  {
   "cell_type": "markdown",
   "metadata": {},
   "source": [
    "# d)"
   ]
  },
  {
   "cell_type": "code",
   "execution_count": 15,
   "metadata": {
    "ExecuteTime": {
     "end_time": "2020-04-27T22:34:47.979604Z",
     "start_time": "2020-04-27T22:34:47.958008Z"
    }
   },
   "outputs": [
    {
     "data": {
      "text/html": [
       "<div>\n",
       "<style scoped>\n",
       "    .dataframe tbody tr th:only-of-type {\n",
       "        vertical-align: middle;\n",
       "    }\n",
       "\n",
       "    .dataframe tbody tr th {\n",
       "        vertical-align: top;\n",
       "    }\n",
       "\n",
       "    .dataframe thead th {\n",
       "        text-align: right;\n",
       "    }\n",
       "</style>\n",
       "<table border=\"1\" class=\"dataframe\">\n",
       "  <thead>\n",
       "    <tr style=\"text-align: right;\">\n",
       "      <th></th>\n",
       "      <th>GDP_per_capita</th>\n",
       "      <th>Current_health_expenditure</th>\n",
       "      <th>Domestic_general_government_health_expenditure</th>\n",
       "      <th>Life_expectancy</th>\n",
       "    </tr>\n",
       "  </thead>\n",
       "  <tbody>\n",
       "    <tr>\n",
       "      <td>GDP_per_capita</td>\n",
       "      <td>1.000000</td>\n",
       "      <td>0.231599</td>\n",
       "      <td>0.122092</td>\n",
       "      <td>0.154412</td>\n",
       "    </tr>\n",
       "    <tr>\n",
       "      <td>Current_health_expenditure</td>\n",
       "      <td>0.231599</td>\n",
       "      <td>1.000000</td>\n",
       "      <td>0.414644</td>\n",
       "      <td>-0.519790</td>\n",
       "    </tr>\n",
       "    <tr>\n",
       "      <td>Domestic_general_government_health_expenditure</td>\n",
       "      <td>0.122092</td>\n",
       "      <td>0.414644</td>\n",
       "      <td>1.000000</td>\n",
       "      <td>-0.307373</td>\n",
       "    </tr>\n",
       "    <tr>\n",
       "      <td>Life_expectancy</td>\n",
       "      <td>0.154412</td>\n",
       "      <td>-0.519790</td>\n",
       "      <td>-0.307373</td>\n",
       "      <td>1.000000</td>\n",
       "    </tr>\n",
       "  </tbody>\n",
       "</table>\n",
       "</div>"
      ],
      "text/plain": [
       "                                                GDP_per_capita  \\\n",
       "GDP_per_capita                                        1.000000   \n",
       "Current_health_expenditure                            0.231599   \n",
       "Domestic_general_government_health_expenditure        0.122092   \n",
       "Life_expectancy                                       0.154412   \n",
       "\n",
       "                                                Current_health_expenditure  \\\n",
       "GDP_per_capita                                                    0.231599   \n",
       "Current_health_expenditure                                        1.000000   \n",
       "Domestic_general_government_health_expenditure                    0.414644   \n",
       "Life_expectancy                                                  -0.519790   \n",
       "\n",
       "                                                Domestic_general_government_health_expenditure  \\\n",
       "GDP_per_capita                                                                        0.122092   \n",
       "Current_health_expenditure                                                            0.414644   \n",
       "Domestic_general_government_health_expenditure                                        1.000000   \n",
       "Life_expectancy                                                                      -0.307373   \n",
       "\n",
       "                                                Life_expectancy  \n",
       "GDP_per_capita                                         0.154412  \n",
       "Current_health_expenditure                            -0.519790  \n",
       "Domestic_general_government_health_expenditure        -0.307373  \n",
       "Life_expectancy                                        1.000000  "
      ]
     },
     "execution_count": 15,
     "metadata": {},
     "output_type": "execute_result"
    }
   ],
   "source": [
    "columns_name = [ df.columns[i] for i in range(1, 5)]\n",
    "df[columns_name].corr()"
   ]
  },
  {
   "cell_type": "markdown",
   "metadata": {},
   "source": [
    "# e)\n",
    "**Я так и не понял, что такое диаграммы рассеяния с линиями тренда, но поробуй ему вставить графики эти**\n",
    "\n",
    "*Он просит вас какие-то связи искать, корреляцию и тд, хотя по критерию Фишера это независимые данные, так что мб прокатит*"
   ]
  },
  {
   "cell_type": "code",
   "execution_count": 16,
   "metadata": {
    "ExecuteTime": {
     "end_time": "2020-04-27T22:34:48.317501Z",
     "start_time": "2020-04-27T22:34:47.983237Z"
    }
   },
   "outputs": [
    {
     "name": "stdout",
     "output_type": "stream",
     "text": [
      "Intercept         1.484923e-15\n",
      "GDP_per_capita    1.544118e-01\n",
      "dtype: float64\n"
     ]
    },
    {
     "data": {
      "text/plain": [
       "<matplotlib.axes._subplots.AxesSubplot at 0x1a19b4fad0>"
      ]
     },
     "execution_count": 16,
     "metadata": {},
     "output_type": "execute_result"
    },
    {
     "data": {
      "image/png": "[encoded data removed]",
      "text/plain": [
       "<Figure size 1152x288 with 1 Axes>"
      ]
     },
     "metadata": {
      "needs_background": "light"
     },
     "output_type": "display_data"
    }
   ],
   "source": [
    "model = smf.ols(df.columns[4]+'~'+df.columns[1],data=df)\n",
    "fitted = model.fit()\n",
    "print(fitted.params)\n",
    "\n",
    "df['regression'] = fitted.params[0] + fitted.params[1]*df[df.columns[1]]\n",
    "\n",
    "fig = plt.figure(figsize=(16,4))\n",
    "ax = plt.subplot()\n",
    "\n",
    "df.plot.scatter(df.columns[1],df.columns[4], ax = ax, color='red')\n",
    "df.plot.line(df.columns[1],'regression', ax = ax, color = 'orange')"
   ]
  },
  {
   "cell_type": "code",
   "execution_count": 17,
   "metadata": {
    "ExecuteTime": {
     "end_time": "2020-04-27T22:34:48.692057Z",
     "start_time": "2020-04-27T22:34:48.326508Z"
    }
   },
   "outputs": [
    {
     "name": "stdout",
     "output_type": "stream",
     "text": [
      "Intercept                     1.484923e-15\n",
      "Current_health_expenditure   -5.197901e-01\n",
      "dtype: float64\n"
     ]
    },
    {
     "data": {
      "text/plain": [
       "<matplotlib.axes._subplots.AxesSubplot at 0x1a19ac4710>"
      ]
     },
     "execution_count": 17,
     "metadata": {},
     "output_type": "execute_result"
    },
    {
     "data": {
      "image/png": "[encoded data removed]",
      "text/plain": [
       "<Figure size 1152x288 with 1 Axes>"
      ]
     },
     "metadata": {
      "needs_background": "light"
     },
     "output_type": "display_data"
    }
   ],
   "source": [
    "model = smf.ols(df.columns[4]+'~'+df.columns[2],data=df)\n",
    "fitted = model.fit()\n",
    "print(fitted.params)\n",
    "\n",
    "df['regression'] = fitted.params[0] + fitted.params[1]*df[df.columns[2]]\n",
    "\n",
    "fig = plt.figure(figsize=(16,4))\n",
    "ax = plt.subplot()\n",
    "\n",
    "df.plot.scatter(df.columns[2],df.columns[4], ax = ax, color='red')\n",
    "df.plot.line(df.columns[2],'regression', ax = ax, color = 'orange')"
   ]
  },
  {
   "cell_type": "code",
   "execution_count": 18,
   "metadata": {
    "ExecuteTime": {
     "end_time": "2020-04-27T22:34:49.088888Z",
     "start_time": "2020-04-27T22:34:48.697185Z"
    }
   },
   "outputs": [
    {
     "name": "stdout",
     "output_type": "stream",
     "text": [
      "Intercept                                         1.484923e-15\n",
      "Domestic_general_government_health_expenditure   -3.073732e-01\n",
      "dtype: float64\n"
     ]
    },
    {
     "data": {
      "image/png": "[encoded data removed]",
      "text/plain": [
       "<Figure size 1152x288 with 1 Axes>"
      ]
     },
     "metadata": {
      "needs_background": "light"
     },
     "output_type": "display_data"
    }
   ],
   "source": [
    "model = smf.ols(df.columns[4]+'~'+df.columns[3],data=df)\n",
    "fitted = model.fit()\n",
    "print(fitted.params)\n",
    "\n",
    "df['regression'] = fitted.params[0] + fitted.params[1]*df[df.columns[3]]\n",
    "\n",
    "fig = plt.figure(figsize=(16,4))\n",
    "ax = plt.subplot()\n",
    "\n",
    "df.plot.scatter(df.columns[3],df.columns[4], ax = ax, color='red')\n",
    "df.plot.line(df.columns[3],'regression', ax = ax, color = 'orange')\n",
    "\n",
    "df = df.drop(['regression'], axis=1)"
   ]
  },
  {
   "cell_type": "markdown",
   "metadata": {},
   "source": [
    "# Задание 3\n",
    "## a)"
   ]
  },
  {
   "cell_type": "code",
   "execution_count": 19,
   "metadata": {
    "ExecuteTime": {
     "end_time": "2020-04-27T22:34:49.475686Z",
     "start_time": "2020-04-27T22:34:49.092891Z"
    }
   },
   "outputs": [
    {
     "data": {
      "text/plain": [
       "<matplotlib.axes._subplots.AxesSubplot at 0x1a1aec5a90>"
      ]
     },
     "execution_count": 19,
     "metadata": {},
     "output_type": "execute_result"
    },
    {
     "data": {
      "image/png": "[encoded data removed]",
      "text/plain": [
       "<Figure size 864x504 with 2 Axes>"
      ]
     },
     "metadata": {
      "needs_background": "light"
     },
     "output_type": "display_data"
    }
   ],
   "source": [
    "import seaborn as sns \n",
    "f, ax = plt.subplots(figsize=(12, 7)) \n",
    "corr = df.corr() \n",
    "sns.heatmap(corr, mask=np.zeros_like(corr, dtype=np.bool), cmap=sns.diverging_palette(220, 10, as_cmap=True), square=True, ax=ax) "
   ]
  },
  {
   "cell_type": "markdown",
   "metadata": {
    "ExecuteTime": {
     "end_time": "2020-04-27T21:38:32.321170Z",
     "start_time": "2020-04-27T21:38:32.296652Z"
    }
   },
   "source": [
    "*Можно табличку верхнюю прикрепить, чтоб по красоте все было, но это не обязательно*\n",
    "# Ответ:\n",
    "##  На зависимую переменную сильнее всего влияет \"GDP_per_capita\" и меньше всего \"Current_health_expenditure\""
   ]
  },
  {
   "cell_type": "markdown",
   "metadata": {},
   "source": [
    "# b)"
   ]
  },
  {
   "cell_type": "markdown",
   "metadata": {},
   "source": [
    "# Ответ:\n",
    "##  Посмотрев на $R^2$ при различном количестве переменных видно, что при переходе от двух к трем переменным результат регрессии совсем немного изменяется в худшую стророну, но когда переменная остается только одна качество регрессии сильно падает"
   ]
  }
 ],
 "metadata": {
  "kernelspec": {
   "display_name": "Python 3",
   "language": "python",
   "name": "python3"
  },
  "language_info": {
   "codemirror_mode": {
    "name": "ipython",
    "version": 3
   },
   "file_extension": ".py",
   "mimetype": "text/x-python",
   "name": "python",
   "nbconvert_exporter": "python",
   "pygments_lexer": "ipython3",
   "version": "3.7.4"
  }
 },
 "nbformat": 4,
 "nbformat_minor": 2
}
