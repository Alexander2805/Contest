{
 "cells": [
  {
   "cell_type": "code",
   "execution_count": 1,
   "metadata": {
    "ExecuteTime": {
     "end_time": "2019-11-20T21:07:42.949403Z",
     "start_time": "2019-11-20T21:07:41.868426Z"
    }
   },
   "outputs": [],
   "source": [
    "import numpy as np\n",
    "import matplotlib.pyplot as plt"
   ]
  },
  {
   "cell_type": "code",
   "execution_count": 2,
   "metadata": {
    "ExecuteTime": {
     "end_time": "2019-11-20T21:07:42.961061Z",
     "start_time": "2019-11-20T21:07:42.951863Z"
    }
   },
   "outputs": [],
   "source": [
    "import os\n",
    "import PIL\n",
    "\n",
    "IMAGE_TRAIN_PATH = \"./train/image\"\n",
    "VOICE_TRAIN_PATH = \"./train/voice\"\n",
    "IMAGE_TEST_PATH = \"./test/image/\"\n",
    "VOICE_TEST_PATH = \"./test/voice/\"\n",
    "\n",
    "def read_image(path):\n",
    "    return PIL.Image.open(path).convert('L')"
   ]
  },
  {
   "cell_type": "code",
   "execution_count": 3,
   "metadata": {
    "ExecuteTime": {
     "end_time": "2019-11-20T21:07:43.891581Z",
     "start_time": "2019-11-20T21:07:42.966189Z"
    }
   },
   "outputs": [],
   "source": [
    "# делаю таблицу\n",
    "import pandas as pd"
   ]
  },
  {
   "cell_type": "code",
   "execution_count": 4,
   "metadata": {
    "ExecuteTime": {
     "end_time": "2019-11-20T21:07:43.910491Z",
     "start_time": "2019-11-20T21:07:43.896006Z"
    }
   },
   "outputs": [],
   "source": [
    "# картнки\n",
    "def extract_image_features(image_folder):\n",
    "    image_vectors = []\n",
    "    indices = []\n",
    "    for image_name in os.listdir(image_folder):\n",
    "        index = os.path.splitext(image_name)[0]\n",
    "        indices.append(index)\n",
    "        image = read_image(os.path.join(image_folder, image_name))\n",
    "        image_vector = np.array(image).reshape(-1)\n",
    "        image_vectors.append(image_vector)\n",
    "    return pd.DataFrame({\n",
    "        'index': indices,\n",
    "        'image_vector': image_vectors,\n",
    "    })"
   ]
  },
  {
   "cell_type": "code",
   "execution_count": 5,
   "metadata": {
    "ExecuteTime": {
     "end_time": "2019-11-20T21:07:46.313576Z",
     "start_time": "2019-11-20T21:07:43.913293Z"
    }
   },
   "outputs": [],
   "source": [
    "image_features = extract_image_features(IMAGE_TRAIN_PATH)\n",
    "image_features[\"target\"] = image_features[\"index\"].apply(lambda x: int(x[0]))\n",
    "image_features = image_features.sort_values(by='target')"
   ]
  },
  {
   "cell_type": "code",
   "execution_count": 6,
   "metadata": {
    "ExecuteTime": {
     "end_time": "2019-11-20T21:07:49.463537Z",
     "start_time": "2019-11-20T21:07:46.315850Z"
    }
   },
   "outputs": [],
   "source": [
    "# голос\n",
    "import librosa\n",
    "def load_wav(path):\n",
    "    return librosa.load(path, sr=8000)\n",
    "\n",
    "def extract_voice_features(voice_folder, numcep=13, hop_length=256):\n",
    "    voice_vectors = []\n",
    "    indices = []\n",
    "    for record_name in os.listdir(voice_folder):\n",
    "        index = os.path.splitext(record_name)[0]\n",
    "        indices.append(index)\n",
    "        signal, sr = load_wav(\n",
    "            os.path.join(voice_folder, record_name)\n",
    "        )\n",
    "        mfcc_features = librosa.feature.mfcc(\n",
    "            signal, sr=sr, n_mfcc=numcep, hop_length=hop_length\n",
    "        )\n",
    "        voice_vector = mfcc_features.mean(axis=1)\n",
    "        voice_vectors.append(voice_vector)\n",
    "    return pd.DataFrame({\n",
    "        'index': indices,\n",
    "        'voice_vector': voice_vectors,\n",
    "    })"
   ]
  },
  {
   "cell_type": "code",
   "execution_count": 7,
   "metadata": {
    "ExecuteTime": {
     "end_time": "2019-11-20T21:08:00.217856Z",
     "start_time": "2019-11-20T21:07:49.466087Z"
    }
   },
   "outputs": [],
   "source": [
    "voice_features = extract_voice_features(VOICE_TRAIN_PATH)\n",
    "voice_features[\"target\"] = voice_features['index'].apply(lambda x: int(x[0]))\n",
    "voice_features = voice_features.sort_values(by='target')"
   ]
  },
  {
   "cell_type": "code",
   "execution_count": 8,
   "metadata": {
    "ExecuteTime": {
     "end_time": "2019-11-20T21:08:00.256717Z",
     "start_time": "2019-11-20T21:08:00.221605Z"
    }
   },
   "outputs": [
    {
     "data": {
      "text/html": [
       "<div>\n",
       "<style scoped>\n",
       "    .dataframe tbody tr th:only-of-type {\n",
       "        vertical-align: middle;\n",
       "    }\n",
       "\n",
       "    .dataframe tbody tr th {\n",
       "        vertical-align: top;\n",
       "    }\n",
       "\n",
       "    .dataframe thead th {\n",
       "        text-align: right;\n",
       "    }\n",
       "</style>\n",
       "<table border=\"1\" class=\"dataframe\">\n",
       "  <thead>\n",
       "    <tr style=\"text-align: right;\">\n",
       "      <th></th>\n",
       "      <th>index</th>\n",
       "      <th>image_vector</th>\n",
       "      <th>target</th>\n",
       "    </tr>\n",
       "  </thead>\n",
       "  <tbody>\n",
       "    <tr>\n",
       "      <td>499</td>\n",
       "      <td>0_51</td>\n",
       "      <td>[0, 0, 0, 0, 0, 0, 0, 0, 0, 0, 0, 0, 0, 0, 0, ...</td>\n",
       "      <td>0</td>\n",
       "    </tr>\n",
       "    <tr>\n",
       "      <td>540</td>\n",
       "      <td>0_117</td>\n",
       "      <td>[0, 0, 0, 0, 0, 0, 0, 0, 0, 0, 0, 0, 0, 0, 0, ...</td>\n",
       "      <td>0</td>\n",
       "    </tr>\n",
       "    <tr>\n",
       "      <td>802</td>\n",
       "      <td>0_98</td>\n",
       "      <td>[0, 0, 0, 0, 0, 0, 0, 0, 0, 0, 0, 0, 0, 0, 0, ...</td>\n",
       "      <td>0</td>\n",
       "    </tr>\n",
       "    <tr>\n",
       "      <td>959</td>\n",
       "      <td>0_74</td>\n",
       "      <td>[0, 0, 0, 0, 0, 0, 0, 0, 0, 0, 0, 0, 0, 0, 0, ...</td>\n",
       "      <td>0</td>\n",
       "    </tr>\n",
       "    <tr>\n",
       "      <td>1256</td>\n",
       "      <td>0_12</td>\n",
       "      <td>[0, 0, 0, 0, 0, 0, 0, 0, 0, 0, 0, 0, 0, 0, 0, ...</td>\n",
       "      <td>0</td>\n",
       "    </tr>\n",
       "  </tbody>\n",
       "</table>\n",
       "</div>"
      ],
      "text/plain": [
       "      index                                       image_vector  target\n",
       "499    0_51  [0, 0, 0, 0, 0, 0, 0, 0, 0, 0, 0, 0, 0, 0, 0, ...       0\n",
       "540   0_117  [0, 0, 0, 0, 0, 0, 0, 0, 0, 0, 0, 0, 0, 0, 0, ...       0\n",
       "802    0_98  [0, 0, 0, 0, 0, 0, 0, 0, 0, 0, 0, 0, 0, 0, 0, ...       0\n",
       "959    0_74  [0, 0, 0, 0, 0, 0, 0, 0, 0, 0, 0, 0, 0, 0, 0, ...       0\n",
       "1256   0_12  [0, 0, 0, 0, 0, 0, 0, 0, 0, 0, 0, 0, 0, 0, 0, ...       0"
      ]
     },
     "execution_count": 8,
     "metadata": {},
     "output_type": "execute_result"
    }
   ],
   "source": [
    "image_features.head()"
   ]
  },
  {
   "cell_type": "code",
   "execution_count": 9,
   "metadata": {
    "ExecuteTime": {
     "end_time": "2019-11-20T21:08:00.283686Z",
     "start_time": "2019-11-20T21:08:00.261663Z"
    }
   },
   "outputs": [
    {
     "data": {
      "text/html": [
       "<div>\n",
       "<style scoped>\n",
       "    .dataframe tbody tr th:only-of-type {\n",
       "        vertical-align: middle;\n",
       "    }\n",
       "\n",
       "    .dataframe tbody tr th {\n",
       "        vertical-align: top;\n",
       "    }\n",
       "\n",
       "    .dataframe thead th {\n",
       "        text-align: right;\n",
       "    }\n",
       "</style>\n",
       "<table border=\"1\" class=\"dataframe\">\n",
       "  <thead>\n",
       "    <tr style=\"text-align: right;\">\n",
       "      <th></th>\n",
       "      <th>index</th>\n",
       "      <th>voice_vector</th>\n",
       "      <th>target</th>\n",
       "    </tr>\n",
       "  </thead>\n",
       "  <tbody>\n",
       "    <tr>\n",
       "      <td>361</td>\n",
       "      <td>0_69</td>\n",
       "      <td>[-257.0925, 75.63635, -7.967024, -13.043361, -...</td>\n",
       "      <td>0</td>\n",
       "    </tr>\n",
       "    <tr>\n",
       "      <td>486</td>\n",
       "      <td>0_25</td>\n",
       "      <td>[-343.9921, 73.030975, -19.955416, -7.9696946,...</td>\n",
       "      <td>0</td>\n",
       "    </tr>\n",
       "    <tr>\n",
       "      <td>484</td>\n",
       "      <td>0_31</td>\n",
       "      <td>[-210.23732, 63.847366, 39.9681, 1.6842186, 1....</td>\n",
       "      <td>0</td>\n",
       "    </tr>\n",
       "    <tr>\n",
       "      <td>168</td>\n",
       "      <td>0_84</td>\n",
       "      <td>[-190.51178, 60.189014, 30.737442, -4.575465, ...</td>\n",
       "      <td>0</td>\n",
       "    </tr>\n",
       "    <tr>\n",
       "      <td>169</td>\n",
       "      <td>0_90</td>\n",
       "      <td>[-182.91739, 101.5228, 8.934057, 17.446121, -2...</td>\n",
       "      <td>0</td>\n",
       "    </tr>\n",
       "  </tbody>\n",
       "</table>\n",
       "</div>"
      ],
      "text/plain": [
       "    index                                       voice_vector  target\n",
       "361  0_69  [-257.0925, 75.63635, -7.967024, -13.043361, -...       0\n",
       "486  0_25  [-343.9921, 73.030975, -19.955416, -7.9696946,...       0\n",
       "484  0_31  [-210.23732, 63.847366, 39.9681, 1.6842186, 1....       0\n",
       "168  0_84  [-190.51178, 60.189014, 30.737442, -4.575465, ...       0\n",
       "169  0_90  [-182.91739, 101.5228, 8.934057, 17.446121, -2...       0"
      ]
     },
     "execution_count": 9,
     "metadata": {},
     "output_type": "execute_result"
    }
   ],
   "source": [
    "voice_features.head()"
   ]
  },
  {
   "cell_type": "code",
   "execution_count": 10,
   "metadata": {
    "ExecuteTime": {
     "end_time": "2019-11-20T21:08:00.325217Z",
     "start_time": "2019-11-20T21:08:00.286878Z"
    }
   },
   "outputs": [],
   "source": [
    "dataset = pd.merge(image_features, voice_features, on='target', how='outer')"
   ]
  },
  {
   "cell_type": "code",
   "execution_count": 11,
   "metadata": {
    "ExecuteTime": {
     "end_time": "2019-11-20T21:08:00.372696Z",
     "start_time": "2019-11-20T21:08:00.327462Z"
    }
   },
   "outputs": [
    {
     "data": {
      "text/html": [
       "<div>\n",
       "<style scoped>\n",
       "    .dataframe tbody tr th:only-of-type {\n",
       "        vertical-align: middle;\n",
       "    }\n",
       "\n",
       "    .dataframe tbody tr th {\n",
       "        vertical-align: top;\n",
       "    }\n",
       "\n",
       "    .dataframe thead th {\n",
       "        text-align: right;\n",
       "    }\n",
       "</style>\n",
       "<table border=\"1\" class=\"dataframe\">\n",
       "  <thead>\n",
       "    <tr style=\"text-align: right;\">\n",
       "      <th></th>\n",
       "      <th>index_x</th>\n",
       "      <th>image_vector</th>\n",
       "      <th>target</th>\n",
       "      <th>index_y</th>\n",
       "      <th>voice_vector</th>\n",
       "    </tr>\n",
       "  </thead>\n",
       "  <tbody>\n",
       "    <tr>\n",
       "      <td>0</td>\n",
       "      <td>0_51</td>\n",
       "      <td>[0, 0, 0, 0, 0, 0, 0, 0, 0, 0, 0, 0, 0, 0, 0, ...</td>\n",
       "      <td>0</td>\n",
       "      <td>0_69</td>\n",
       "      <td>[-257.0925, 75.63635, -7.967024, -13.043361, -...</td>\n",
       "    </tr>\n",
       "    <tr>\n",
       "      <td>1</td>\n",
       "      <td>0_51</td>\n",
       "      <td>[0, 0, 0, 0, 0, 0, 0, 0, 0, 0, 0, 0, 0, 0, 0, ...</td>\n",
       "      <td>0</td>\n",
       "      <td>0_25</td>\n",
       "      <td>[-343.9921, 73.030975, -19.955416, -7.9696946,...</td>\n",
       "    </tr>\n",
       "    <tr>\n",
       "      <td>2</td>\n",
       "      <td>0_51</td>\n",
       "      <td>[0, 0, 0, 0, 0, 0, 0, 0, 0, 0, 0, 0, 0, 0, 0, ...</td>\n",
       "      <td>0</td>\n",
       "      <td>0_31</td>\n",
       "      <td>[-210.23732, 63.847366, 39.9681, 1.6842186, 1....</td>\n",
       "    </tr>\n",
       "    <tr>\n",
       "      <td>3</td>\n",
       "      <td>0_51</td>\n",
       "      <td>[0, 0, 0, 0, 0, 0, 0, 0, 0, 0, 0, 0, 0, 0, 0, ...</td>\n",
       "      <td>0</td>\n",
       "      <td>0_84</td>\n",
       "      <td>[-190.51178, 60.189014, 30.737442, -4.575465, ...</td>\n",
       "    </tr>\n",
       "    <tr>\n",
       "      <td>4</td>\n",
       "      <td>0_51</td>\n",
       "      <td>[0, 0, 0, 0, 0, 0, 0, 0, 0, 0, 0, 0, 0, 0, 0, ...</td>\n",
       "      <td>0</td>\n",
       "      <td>0_90</td>\n",
       "      <td>[-182.91739, 101.5228, 8.934057, 17.446121, -2...</td>\n",
       "    </tr>\n",
       "    <tr>\n",
       "      <td>...</td>\n",
       "      <td>...</td>\n",
       "      <td>...</td>\n",
       "      <td>...</td>\n",
       "      <td>...</td>\n",
       "      <td>...</td>\n",
       "    </tr>\n",
       "    <tr>\n",
       "      <td>225121</td>\n",
       "      <td>9_96</td>\n",
       "      <td>[0, 0, 0, 0, 0, 0, 0, 0, 0, 0, 0, 0, 0, 0, 0, ...</td>\n",
       "      <td>9</td>\n",
       "      <td>9_84</td>\n",
       "      <td>[-331.8819, 79.107414, -20.253765, -20.558043,...</td>\n",
       "    </tr>\n",
       "    <tr>\n",
       "      <td>225122</td>\n",
       "      <td>9_96</td>\n",
       "      <td>[0, 0, 0, 0, 0, 0, 0, 0, 0, 0, 0, 0, 0, 0, 0, ...</td>\n",
       "      <td>9</td>\n",
       "      <td>9_146</td>\n",
       "      <td>[-194.57497, 63.1638, -11.537321, -4.760928, 2...</td>\n",
       "    </tr>\n",
       "    <tr>\n",
       "      <td>225123</td>\n",
       "      <td>9_96</td>\n",
       "      <td>[0, 0, 0, 0, 0, 0, 0, 0, 0, 0, 0, 0, 0, 0, 0, ...</td>\n",
       "      <td>9</td>\n",
       "      <td>9_90</td>\n",
       "      <td>[-193.1624, 92.93113, 0.64686507, -22.801498, ...</td>\n",
       "    </tr>\n",
       "    <tr>\n",
       "      <td>225124</td>\n",
       "      <td>9_96</td>\n",
       "      <td>[0, 0, 0, 0, 0, 0, 0, 0, 0, 0, 0, 0, 0, 0, 0, ...</td>\n",
       "      <td>9</td>\n",
       "      <td>9_132</td>\n",
       "      <td>[-160.88858, 57.00657, 5.003337, -4.3809357, -...</td>\n",
       "    </tr>\n",
       "    <tr>\n",
       "      <td>225125</td>\n",
       "      <td>9_96</td>\n",
       "      <td>[0, 0, 0, 0, 0, 0, 0, 0, 0, 0, 0, 0, 0, 0, 0, ...</td>\n",
       "      <td>9</td>\n",
       "      <td>9_76</td>\n",
       "      <td>[-341.81244, 59.43026, -21.192057, -11.135661,...</td>\n",
       "    </tr>\n",
       "  </tbody>\n",
       "</table>\n",
       "<p>225126 rows × 5 columns</p>\n",
       "</div>"
      ],
      "text/plain": [
       "       index_x                                       image_vector  target  \\\n",
       "0         0_51  [0, 0, 0, 0, 0, 0, 0, 0, 0, 0, 0, 0, 0, 0, 0, ...       0   \n",
       "1         0_51  [0, 0, 0, 0, 0, 0, 0, 0, 0, 0, 0, 0, 0, 0, 0, ...       0   \n",
       "2         0_51  [0, 0, 0, 0, 0, 0, 0, 0, 0, 0, 0, 0, 0, 0, 0, ...       0   \n",
       "3         0_51  [0, 0, 0, 0, 0, 0, 0, 0, 0, 0, 0, 0, 0, 0, 0, ...       0   \n",
       "4         0_51  [0, 0, 0, 0, 0, 0, 0, 0, 0, 0, 0, 0, 0, 0, 0, ...       0   \n",
       "...        ...                                                ...     ...   \n",
       "225121    9_96  [0, 0, 0, 0, 0, 0, 0, 0, 0, 0, 0, 0, 0, 0, 0, ...       9   \n",
       "225122    9_96  [0, 0, 0, 0, 0, 0, 0, 0, 0, 0, 0, 0, 0, 0, 0, ...       9   \n",
       "225123    9_96  [0, 0, 0, 0, 0, 0, 0, 0, 0, 0, 0, 0, 0, 0, 0, ...       9   \n",
       "225124    9_96  [0, 0, 0, 0, 0, 0, 0, 0, 0, 0, 0, 0, 0, 0, 0, ...       9   \n",
       "225125    9_96  [0, 0, 0, 0, 0, 0, 0, 0, 0, 0, 0, 0, 0, 0, 0, ...       9   \n",
       "\n",
       "       index_y                                       voice_vector  \n",
       "0         0_69  [-257.0925, 75.63635, -7.967024, -13.043361, -...  \n",
       "1         0_25  [-343.9921, 73.030975, -19.955416, -7.9696946,...  \n",
       "2         0_31  [-210.23732, 63.847366, 39.9681, 1.6842186, 1....  \n",
       "3         0_84  [-190.51178, 60.189014, 30.737442, -4.575465, ...  \n",
       "4         0_90  [-182.91739, 101.5228, 8.934057, 17.446121, -2...  \n",
       "...        ...                                                ...  \n",
       "225121    9_84  [-331.8819, 79.107414, -20.253765, -20.558043,...  \n",
       "225122   9_146  [-194.57497, 63.1638, -11.537321, -4.760928, 2...  \n",
       "225123    9_90  [-193.1624, 92.93113, 0.64686507, -22.801498, ...  \n",
       "225124   9_132  [-160.88858, 57.00657, 5.003337, -4.3809357, -...  \n",
       "225125    9_76  [-341.81244, 59.43026, -21.192057, -11.135661,...  \n",
       "\n",
       "[225126 rows x 5 columns]"
      ]
     },
     "execution_count": 11,
     "metadata": {},
     "output_type": "execute_result"
    }
   ],
   "source": [
    "dataset"
   ]
  },
  {
   "cell_type": "code",
   "execution_count": 12,
   "metadata": {
    "ExecuteTime": {
     "end_time": "2019-11-20T21:08:00.414850Z",
     "start_time": "2019-11-20T21:08:00.377873Z"
    }
   },
   "outputs": [],
   "source": [
    "# тренировка\n",
    "from sklearn.model_selection import train_test_split\n",
    "from sklearn.ensemble import RandomForestClassifier"
   ]
  },
  {
   "cell_type": "code",
   "execution_count": 13,
   "metadata": {
    "ExecuteTime": {
     "end_time": "2019-11-20T21:08:00.425936Z",
     "start_time": "2019-11-20T21:08:00.418100Z"
    }
   },
   "outputs": [],
   "source": [
    "# train_data, test_data = train_test_split(\n",
    "#     dataset, test_size=0.8, random_state=1\n",
    "# )"
   ]
  },
  {
   "cell_type": "code",
   "execution_count": 14,
   "metadata": {
    "ExecuteTime": {
     "end_time": "2019-11-20T21:08:02.141723Z",
     "start_time": "2019-11-20T21:08:00.430300Z"
    }
   },
   "outputs": [],
   "source": [
    "X = np.hstack((\n",
    "    np.vstack(dataset[\"voice_vector\"]),\n",
    "    np.vstack(dataset[\"image_vector\"])\n",
    "))\n",
    "y = dataset['target']"
   ]
  },
  {
   "cell_type": "code",
   "execution_count": 15,
   "metadata": {
    "ExecuteTime": {
     "end_time": "2019-11-20T21:08:02.150271Z",
     "start_time": "2019-11-20T21:08:02.144055Z"
    }
   },
   "outputs": [],
   "source": [
    "# clf = RandomForestClassifier(n_estimators=500, max_depth = 9)"
   ]
  },
  {
   "cell_type": "code",
   "execution_count": 16,
   "metadata": {
    "ExecuteTime": {
     "end_time": "2019-11-20T21:20:19.182396Z",
     "start_time": "2019-11-20T21:08:02.155280Z"
    }
   },
   "outputs": [
    {
     "name": "stdout",
     "output_type": "stream",
     "text": [
      "[0.93719742 0.94583009 0.94300944 0.94971682 0.9546656 ]\n"
     ]
    }
   ],
   "source": [
    "from sklearn import metrics\n",
    "from sklearn.model_selection import cross_val_score\n",
    "clf = RandomForestClassifier(n_estimators=250, max_depth = 9)\n",
    "scores = cross_val_score(\n",
    "    clf, X, y, cv=5, scoring='accuracy')\n",
    "print(scores)"
   ]
  },
  {
   "cell_type": "code",
   "execution_count": 17,
   "metadata": {
    "ExecuteTime": {
     "end_time": "2019-11-20T21:20:23.129319Z",
     "start_time": "2019-11-20T21:20:19.185367Z"
    }
   },
   "outputs": [],
   "source": [
    "# предсказание\n",
    "X_image = extract_image_features(IMAGE_TEST_PATH)\n",
    "X_voice = extract_voice_features(VOICE_TEST_PATH)\n",
    "df = X_image.merge(\n",
    "    X_voice, \n",
    "    on=\"index\"\n",
    ")\n",
    "df[\"index\"] = df[\"index\"].apply(int)"
   ]
  },
  {
   "cell_type": "code",
   "execution_count": 18,
   "metadata": {
    "ExecuteTime": {
     "end_time": "2019-11-20T21:20:23.141674Z",
     "start_time": "2019-11-20T21:20:23.131347Z"
    }
   },
   "outputs": [],
   "source": [
    "df = df.sort_values(by='index')"
   ]
  },
  {
   "cell_type": "code",
   "execution_count": 19,
   "metadata": {
    "ExecuteTime": {
     "end_time": "2019-11-20T21:20:23.161220Z",
     "start_time": "2019-11-20T21:20:23.144778Z"
    }
   },
   "outputs": [],
   "source": [
    "X_test_finish = np.hstack((\n",
    "    np.vstack(df[\"image_vector\"]),\n",
    "    np.vstack(df[\"voice_vector\"])\n",
    "))"
   ]
  },
  {
   "cell_type": "code",
   "execution_count": 20,
   "metadata": {
    "ExecuteTime": {
     "end_time": "2019-11-20T21:23:35.397807Z",
     "start_time": "2019-11-20T21:20:23.168031Z"
    }
   },
   "outputs": [
    {
     "data": {
      "text/plain": [
       "RandomForestClassifier(bootstrap=True, class_weight=None, criterion='gini',\n",
       "                       max_depth=9, max_features='auto', max_leaf_nodes=None,\n",
       "                       min_impurity_decrease=0.0, min_impurity_split=None,\n",
       "                       min_samples_leaf=1, min_samples_split=2,\n",
       "                       min_weight_fraction_leaf=0.0, n_estimators=250,\n",
       "                       n_jobs=None, oob_score=False, random_state=None,\n",
       "                       verbose=0, warm_start=False)"
      ]
     },
     "execution_count": 20,
     "metadata": {},
     "output_type": "execute_result"
    }
   ],
   "source": [
    "clf = RandomForestClassifier(n_estimators=250, max_depth = 9)\n",
    "clf.fit(X, y)"
   ]
  },
  {
   "cell_type": "code",
   "execution_count": 21,
   "metadata": {
    "ExecuteTime": {
     "end_time": "2019-11-20T21:23:35.471913Z",
     "start_time": "2019-11-20T21:23:35.403041Z"
    }
   },
   "outputs": [],
   "source": [
    "y_pred = clf.predict(X_test_finish)"
   ]
  },
  {
   "cell_type": "code",
   "execution_count": 22,
   "metadata": {
    "ExecuteTime": {
     "end_time": "2019-11-20T21:23:35.486747Z",
     "start_time": "2019-11-20T21:23:35.474252Z"
    }
   },
   "outputs": [],
   "source": [
    "otvet = [['index', 'target']]\n",
    "for i in range(len(y_pred)):\n",
    "    otvet.append([i, y_pred[i]])"
   ]
  },
  {
   "cell_type": "code",
   "execution_count": 23,
   "metadata": {
    "ExecuteTime": {
     "end_time": "2019-11-20T21:23:35.505866Z",
     "start_time": "2019-11-20T21:23:35.495889Z"
    }
   },
   "outputs": [],
   "source": [
    "import csv\n",
    "with open('output.csv', 'w') as fp:\n",
    "    writer = csv.writer(fp, delimiter=',')\n",
    "    writer.writerows(otvet)"
   ]
  },
  {
   "cell_type": "code",
   "execution_count": null,
   "metadata": {},
   "outputs": [],
   "source": []
  }
 ],
 "metadata": {
  "kernelspec": {
   "display_name": "Python 3",
   "language": "python",
   "name": "python3"
  },
  "language_info": {
   "codemirror_mode": {
    "name": "ipython",
    "version": 3
   },
   "file_extension": ".py",
   "mimetype": "text/x-python",
   "name": "python",
   "nbconvert_exporter": "python",
   "pygments_lexer": "ipython3",
   "version": "3.7.4"
  }
 },
 "nbformat": 4,
 "nbformat_minor": 2
}
