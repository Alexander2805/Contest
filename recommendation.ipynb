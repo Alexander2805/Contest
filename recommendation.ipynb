{
 "cells": [
  {
   "cell_type": "code",
   "execution_count": 1,
   "metadata": {
    "ExecuteTime": {
     "end_time": "2019-11-28T19:07:34.746008Z",
     "start_time": "2019-11-28T19:07:30.530430Z"
    }
   },
   "outputs": [
    {
     "name": "stderr",
     "output_type": "stream",
     "text": [
      "/opt/anaconda3/lib/python3.7/site-packages/lightfm/_lightfm_fast.py:9: UserWarning: LightFM was compiled without OpenMP support. Only a single thread will be used.\n",
      "  warnings.warn('LightFM was compiled without OpenMP support. '\n"
     ]
    }
   ],
   "source": [
    "import re\n",
    "import gensim\n",
    "import numpy as np\n",
    "import pandas as pd\n",
    "from scipy import spatial\n",
    "from lightfm import LightFM\n",
    "from sklearn.metrics import pairwise_distances\n",
    "from scipy.sparse import coo_matrix, csr_matrix, csc_matrix\n",
    "from sklearn.metrics.pairwise import cosine_similarity\n",
    "from math import atan2\n",
    "from scipy.sparse import load_npz\n",
    "import scipy.sparse\n",
    "from sklearn.decomposition import TruncatedSVD"
   ]
  },
  {
   "cell_type": "code",
   "execution_count": 2,
   "metadata": {
    "ExecuteTime": {
     "end_time": "2019-11-28T19:07:35.036055Z",
     "start_time": "2019-11-28T19:07:34.749160Z"
    }
   },
   "outputs": [],
   "source": [
    "Products_features = load_npz('item_features_matrix.npz')"
   ]
  },
  {
   "cell_type": "code",
   "execution_count": 3,
   "metadata": {
    "ExecuteTime": {
     "end_time": "2019-11-28T19:07:39.399562Z",
     "start_time": "2019-11-28T19:07:35.038994Z"
    }
   },
   "outputs": [],
   "source": [
    "I = pd.read_csv(\"Interactions.csv\", delimiter=',')"
   ]
  },
  {
   "cell_type": "code",
   "execution_count": 4,
   "metadata": {
    "ExecuteTime": {
     "end_time": "2019-11-28T19:07:39.429601Z",
     "start_time": "2019-11-28T19:07:39.403060Z"
    }
   },
   "outputs": [
    {
     "data": {
      "text/plain": [
       "(12913475, 3)"
      ]
     },
     "execution_count": 4,
     "metadata": {},
     "output_type": "execute_result"
    }
   ],
   "source": [
    "I.shape"
   ]
  },
  {
   "cell_type": "code",
   "execution_count": 5,
   "metadata": {
    "ExecuteTime": {
     "end_time": "2019-11-28T19:07:39.770117Z",
     "start_time": "2019-11-28T19:07:39.436890Z"
    }
   },
   "outputs": [
    {
     "name": "stdout",
     "output_type": "stream",
     "text": [
      "509399\n",
      "383771\n"
     ]
    }
   ],
   "source": [
    "print(I.product_id.max())\n",
    "print(I.product_id.nunique())"
   ]
  },
  {
   "cell_type": "code",
   "execution_count": 6,
   "metadata": {
    "ExecuteTime": {
     "end_time": "2019-11-28T19:07:39.897971Z",
     "start_time": "2019-11-28T19:07:39.777065Z"
    }
   },
   "outputs": [],
   "source": [
    "#Отделяем id товаров от фичей\n",
    "Products_features = Products_features.tocsc()\n",
    "ids = Products_features[:,0]\n",
    "Products_features = Products_features[:,1:]"
   ]
  },
  {
   "cell_type": "code",
   "execution_count": 7,
   "metadata": {
    "ExecuteTime": {
     "end_time": "2019-11-28T19:07:42.351768Z",
     "start_time": "2019-11-28T19:07:39.901409Z"
    }
   },
   "outputs": [],
   "source": [
    "svd = TruncatedSVD(n_components=2)\n",
    "svd.fit(Products_features)\n",
    "Products_features = svd.transform(Products_features)"
   ]
  },
  {
   "cell_type": "code",
   "execution_count": 8,
   "metadata": {
    "ExecuteTime": {
     "end_time": "2019-11-28T19:07:42.367675Z",
     "start_time": "2019-11-28T19:07:42.355389Z"
    }
   },
   "outputs": [
    {
     "data": {
      "text/plain": [
       "array([[ 0.06762964,  0.03255733],\n",
       "       [ 0.10391546,  0.05141103],\n",
       "       [ 0.04870719,  0.01914751],\n",
       "       ...,\n",
       "       [ 0.1627247 ,  0.43340185],\n",
       "       [ 0.03302475,  0.00945652],\n",
       "       [ 0.08098272, -0.00817672]])"
      ]
     },
     "execution_count": 8,
     "metadata": {},
     "output_type": "execute_result"
    }
   ],
   "source": [
    "Products_features"
   ]
  },
  {
   "cell_type": "code",
   "execution_count": 9,
   "metadata": {
    "ExecuteTime": {
     "end_time": "2019-11-28T19:07:42.929939Z",
     "start_time": "2019-11-28T19:07:42.372410Z"
    }
   },
   "outputs": [],
   "source": [
    "t_df = pd.DataFrame(data={'id': [i[0] for i in ids[:,0].toarray().astype(int)],'x':[i for i in Products_features[:,0]], 'y':[i for i in Products_features[:,1]]})"
   ]
  },
  {
   "cell_type": "code",
   "execution_count": 10,
   "metadata": {
    "ExecuteTime": {
     "end_time": "2019-11-28T19:07:42.955143Z",
     "start_time": "2019-11-28T19:07:42.932318Z"
    }
   },
   "outputs": [
    {
     "data": {
      "text/html": [
       "<div>\n",
       "<style scoped>\n",
       "    .dataframe tbody tr th:only-of-type {\n",
       "        vertical-align: middle;\n",
       "    }\n",
       "\n",
       "    .dataframe tbody tr th {\n",
       "        vertical-align: top;\n",
       "    }\n",
       "\n",
       "    .dataframe thead th {\n",
       "        text-align: right;\n",
       "    }\n",
       "</style>\n",
       "<table border=\"1\" class=\"dataframe\">\n",
       "  <thead>\n",
       "    <tr style=\"text-align: right;\">\n",
       "      <th></th>\n",
       "      <th>id</th>\n",
       "      <th>x</th>\n",
       "      <th>y</th>\n",
       "    </tr>\n",
       "  </thead>\n",
       "  <tbody>\n",
       "    <tr>\n",
       "      <td>0</td>\n",
       "      <td>335486</td>\n",
       "      <td>0.067630</td>\n",
       "      <td>0.032557</td>\n",
       "    </tr>\n",
       "    <tr>\n",
       "      <td>1</td>\n",
       "      <td>322530</td>\n",
       "      <td>0.103915</td>\n",
       "      <td>0.051411</td>\n",
       "    </tr>\n",
       "    <tr>\n",
       "      <td>2</td>\n",
       "      <td>57032</td>\n",
       "      <td>0.048707</td>\n",
       "      <td>0.019148</td>\n",
       "    </tr>\n",
       "    <tr>\n",
       "      <td>3</td>\n",
       "      <td>56996</td>\n",
       "      <td>0.061338</td>\n",
       "      <td>0.028638</td>\n",
       "    </tr>\n",
       "    <tr>\n",
       "      <td>4</td>\n",
       "      <td>37084</td>\n",
       "      <td>0.116709</td>\n",
       "      <td>0.246880</td>\n",
       "    </tr>\n",
       "  </tbody>\n",
       "</table>\n",
       "</div>"
      ],
      "text/plain": [
       "       id         x         y\n",
       "0  335486  0.067630  0.032557\n",
       "1  322530  0.103915  0.051411\n",
       "2   57032  0.048707  0.019148\n",
       "3   56996  0.061338  0.028638\n",
       "4   37084  0.116709  0.246880"
      ]
     },
     "execution_count": 10,
     "metadata": {},
     "output_type": "execute_result"
    }
   ],
   "source": [
    "t_df.head()"
   ]
  },
  {
   "cell_type": "markdown",
   "metadata": {},
   "source": [
    "# Content-based\n"
   ]
  },
  {
   "cell_type": "code",
   "execution_count": 11,
   "metadata": {
    "ExecuteTime": {
     "end_time": "2019-11-28T19:07:42.967101Z",
     "start_time": "2019-11-28T19:07:42.960604Z"
    }
   },
   "outputs": [],
   "source": [
    "#отсортируем все по отношению к вектору (1,0) используя в качестве меры угол. Эта метрика в случае двумерного пространства идентична косинусной мере между двумя товарами. Нужно только отдельно рассмотреть пятерку товаров по краям списка ( изза свойства угла fi = fi + 2pi). Но в данном случае они (товары) очень близки к друг другу по краям списка. Такая мера в разы ускоряет вычисления\n",
    "def calc_angle(point):\n",
    "    return atan2(point[1],point[0])\n"
   ]
  },
  {
   "cell_type": "code",
   "execution_count": 12,
   "metadata": {
    "ExecuteTime": {
     "end_time": "2019-11-28T19:07:42.978233Z",
     "start_time": "2019-11-28T19:07:42.971225Z"
    }
   },
   "outputs": [],
   "source": [
    "#t_df['cos']= cosine_similarity(np.array([1,0]).reshape(1,2), t_df[['x','y']].values[:,:])[0]"
   ]
  },
  {
   "cell_type": "code",
   "execution_count": 13,
   "metadata": {
    "ExecuteTime": {
     "end_time": "2019-11-28T19:07:43.445784Z",
     "start_time": "2019-11-28T19:07:42.981782Z"
    }
   },
   "outputs": [],
   "source": [
    "t_df['angle'] = [calc_angle(point) for point in t_df[['x','y']].values[:,:]]"
   ]
  },
  {
   "cell_type": "code",
   "execution_count": 14,
   "metadata": {
    "ExecuteTime": {
     "end_time": "2019-11-28T19:07:43.483997Z",
     "start_time": "2019-11-28T19:07:43.447958Z"
    }
   },
   "outputs": [
    {
     "data": {
      "text/html": [
       "<div>\n",
       "<style scoped>\n",
       "    .dataframe tbody tr th:only-of-type {\n",
       "        vertical-align: middle;\n",
       "    }\n",
       "\n",
       "    .dataframe tbody tr th {\n",
       "        vertical-align: top;\n",
       "    }\n",
       "\n",
       "    .dataframe thead th {\n",
       "        text-align: right;\n",
       "    }\n",
       "</style>\n",
       "<table border=\"1\" class=\"dataframe\">\n",
       "  <thead>\n",
       "    <tr style=\"text-align: right;\">\n",
       "      <th></th>\n",
       "      <th>id</th>\n",
       "      <th>x</th>\n",
       "      <th>y</th>\n",
       "      <th>angle</th>\n",
       "    </tr>\n",
       "  </thead>\n",
       "  <tbody>\n",
       "    <tr>\n",
       "      <td>0</td>\n",
       "      <td>335486</td>\n",
       "      <td>0.067630</td>\n",
       "      <td>0.032557</td>\n",
       "      <td>0.448662</td>\n",
       "    </tr>\n",
       "    <tr>\n",
       "      <td>1</td>\n",
       "      <td>322530</td>\n",
       "      <td>0.103915</td>\n",
       "      <td>0.051411</td>\n",
       "      <td>0.459430</td>\n",
       "    </tr>\n",
       "    <tr>\n",
       "      <td>2</td>\n",
       "      <td>57032</td>\n",
       "      <td>0.048707</td>\n",
       "      <td>0.019148</td>\n",
       "      <td>0.374557</td>\n",
       "    </tr>\n",
       "    <tr>\n",
       "      <td>3</td>\n",
       "      <td>56996</td>\n",
       "      <td>0.061338</td>\n",
       "      <td>0.028638</td>\n",
       "      <td>0.436804</td>\n",
       "    </tr>\n",
       "    <tr>\n",
       "      <td>4</td>\n",
       "      <td>37084</td>\n",
       "      <td>0.116709</td>\n",
       "      <td>0.246880</td>\n",
       "      <td>1.129198</td>\n",
       "    </tr>\n",
       "  </tbody>\n",
       "</table>\n",
       "</div>"
      ],
      "text/plain": [
       "       id         x         y     angle\n",
       "0  335486  0.067630  0.032557  0.448662\n",
       "1  322530  0.103915  0.051411  0.459430\n",
       "2   57032  0.048707  0.019148  0.374557\n",
       "3   56996  0.061338  0.028638  0.436804\n",
       "4   37084  0.116709  0.246880  1.129198"
      ]
     },
     "execution_count": 14,
     "metadata": {},
     "output_type": "execute_result"
    }
   ],
   "source": [
    "t_df.head()"
   ]
  },
  {
   "cell_type": "code",
   "execution_count": 15,
   "metadata": {
    "ExecuteTime": {
     "end_time": "2019-11-28T19:07:43.604614Z",
     "start_time": "2019-11-28T19:07:43.487271Z"
    }
   },
   "outputs": [
    {
     "data": {
      "text/html": [
       "<div>\n",
       "<style scoped>\n",
       "    .dataframe tbody tr th:only-of-type {\n",
       "        vertical-align: middle;\n",
       "    }\n",
       "\n",
       "    .dataframe tbody tr th {\n",
       "        vertical-align: top;\n",
       "    }\n",
       "\n",
       "    .dataframe thead th {\n",
       "        text-align: right;\n",
       "    }\n",
       "</style>\n",
       "<table border=\"1\" class=\"dataframe\">\n",
       "  <thead>\n",
       "    <tr style=\"text-align: right;\">\n",
       "      <th></th>\n",
       "      <th>id</th>\n",
       "      <th>x</th>\n",
       "      <th>y</th>\n",
       "      <th>angle</th>\n",
       "    </tr>\n",
       "  </thead>\n",
       "  <tbody>\n",
       "    <tr>\n",
       "      <td>0</td>\n",
       "      <td>108281</td>\n",
       "      <td>0.372808</td>\n",
       "      <td>-0.277538</td>\n",
       "      <td>-0.639942</td>\n",
       "    </tr>\n",
       "    <tr>\n",
       "      <td>1</td>\n",
       "      <td>143309</td>\n",
       "      <td>0.372808</td>\n",
       "      <td>-0.277538</td>\n",
       "      <td>-0.639942</td>\n",
       "    </tr>\n",
       "    <tr>\n",
       "      <td>2</td>\n",
       "      <td>425780</td>\n",
       "      <td>0.372808</td>\n",
       "      <td>-0.277538</td>\n",
       "      <td>-0.639942</td>\n",
       "    </tr>\n",
       "    <tr>\n",
       "      <td>3</td>\n",
       "      <td>121940</td>\n",
       "      <td>0.372808</td>\n",
       "      <td>-0.277538</td>\n",
       "      <td>-0.639942</td>\n",
       "    </tr>\n",
       "    <tr>\n",
       "      <td>4</td>\n",
       "      <td>326344</td>\n",
       "      <td>0.372808</td>\n",
       "      <td>-0.277538</td>\n",
       "      <td>-0.639942</td>\n",
       "    </tr>\n",
       "  </tbody>\n",
       "</table>\n",
       "</div>"
      ],
      "text/plain": [
       "       id         x         y     angle\n",
       "0  108281  0.372808 -0.277538 -0.639942\n",
       "1  143309  0.372808 -0.277538 -0.639942\n",
       "2  425780  0.372808 -0.277538 -0.639942\n",
       "3  121940  0.372808 -0.277538 -0.639942\n",
       "4  326344  0.372808 -0.277538 -0.639942"
      ]
     },
     "execution_count": 15,
     "metadata": {},
     "output_type": "execute_result"
    }
   ],
   "source": [
    "t_df = t_df.sort_values(by='angle')\n",
    "t_df = t_df.reset_index(drop=True)\n",
    "t_df.head()"
   ]
  },
  {
   "cell_type": "code",
   "execution_count": 16,
   "metadata": {
    "ExecuteTime": {
     "end_time": "2019-11-28T19:07:43.614185Z",
     "start_time": "2019-11-28T19:07:43.608305Z"
    }
   },
   "outputs": [],
   "source": [
    "#save csv\n",
    "with open('RusetskyAlexander1.csv','w') as out:\n",
    "    for idx in range(t_df.shape[0]-5):\n",
    "        row =        t_df.iloc[idx] \n",
    "        cur_angle = row.angle\n",
    "        for i in range(1,6):\n",
    "            out.write(str(int(row.id))+' '+str(int(t_df.iloc[idx + i].id))+' '+str(t_df.iloc[idx + i].angle - cur_angle)+'\\n' )\n",
    "    for idx in range(t_df.shape[0]-1, t_df.shape[0]-1-5,-1):\n",
    "        row =        t_df.iloc[idx] \n",
    "        cur_angle = row.angle\n",
    "        for i in range(1,6):\n",
    "            out.write(str(int(row.id))+' '+str(int(t_df.iloc[idx - i].id))+' '+str(t_df.iloc[idx - i].angle - cur_angle)+'\\n' )"
   ]
  },
  {
   "cell_type": "markdown",
   "metadata": {},
   "source": [
    "# Коллаборативная фильтрация"
   ]
  },
  {
   "cell_type": "code",
   "execution_count": 17,
   "metadata": {
    "ExecuteTime": {
     "end_time": "2019-11-28T19:07:43.637439Z",
     "start_time": "2019-11-28T19:07:43.619110Z"
    }
   },
   "outputs": [
    {
     "data": {
      "text/html": [
       "<div>\n",
       "<style scoped>\n",
       "    .dataframe tbody tr th:only-of-type {\n",
       "        vertical-align: middle;\n",
       "    }\n",
       "\n",
       "    .dataframe tbody tr th {\n",
       "        vertical-align: top;\n",
       "    }\n",
       "\n",
       "    .dataframe thead th {\n",
       "        text-align: right;\n",
       "    }\n",
       "</style>\n",
       "<table border=\"1\" class=\"dataframe\">\n",
       "  <thead>\n",
       "    <tr style=\"text-align: right;\">\n",
       "      <th></th>\n",
       "      <th>vid</th>\n",
       "      <th>product_id</th>\n",
       "      <th>page_type</th>\n",
       "    </tr>\n",
       "  </thead>\n",
       "  <tbody>\n",
       "    <tr>\n",
       "      <td>0</td>\n",
       "      <td>0</td>\n",
       "      <td>0</td>\n",
       "      <td>PRODUCT</td>\n",
       "    </tr>\n",
       "    <tr>\n",
       "      <td>1</td>\n",
       "      <td>1</td>\n",
       "      <td>1</td>\n",
       "      <td>PRODUCT</td>\n",
       "    </tr>\n",
       "    <tr>\n",
       "      <td>2</td>\n",
       "      <td>3</td>\n",
       "      <td>3</td>\n",
       "      <td>CART</td>\n",
       "    </tr>\n",
       "    <tr>\n",
       "      <td>3</td>\n",
       "      <td>4</td>\n",
       "      <td>4</td>\n",
       "      <td>PURCHASE</td>\n",
       "    </tr>\n",
       "    <tr>\n",
       "      <td>4</td>\n",
       "      <td>5</td>\n",
       "      <td>5</td>\n",
       "      <td>PRODUCT</td>\n",
       "    </tr>\n",
       "  </tbody>\n",
       "</table>\n",
       "</div>"
      ],
      "text/plain": [
       "   vid  product_id page_type\n",
       "0    0           0   PRODUCT\n",
       "1    1           1   PRODUCT\n",
       "2    3           3      CART\n",
       "3    4           4  PURCHASE\n",
       "4    5           5   PRODUCT"
      ]
     },
     "execution_count": 17,
     "metadata": {},
     "output_type": "execute_result"
    }
   ],
   "source": [
    "I.head()"
   ]
  },
  {
   "cell_type": "code",
   "execution_count": 18,
   "metadata": {
    "ExecuteTime": {
     "end_time": "2019-11-28T19:07:45.000385Z",
     "start_time": "2019-11-28T19:07:43.642460Z"
    }
   },
   "outputs": [],
   "source": [
    "I = I[pd.to_numeric(I['vid'], errors='coerce').notnull()]\n",
    "I = I[pd.to_numeric(I['product_id'], errors='coerce').notnull()]"
   ]
  },
  {
   "cell_type": "code",
   "execution_count": 19,
   "metadata": {
    "ExecuteTime": {
     "end_time": "2019-11-28T19:07:45.376548Z",
     "start_time": "2019-11-28T19:07:45.002549Z"
    }
   },
   "outputs": [
    {
     "name": "stdout",
     "output_type": "stream",
     "text": [
      "383771 509399\n"
     ]
    }
   ],
   "source": [
    "print(I.product_id.nunique(), I.product_id.max())"
   ]
  },
  {
   "cell_type": "code",
   "execution_count": 20,
   "metadata": {
    "ExecuteTime": {
     "end_time": "2019-11-28T19:07:45.390361Z",
     "start_time": "2019-11-28T19:07:45.380310Z"
    }
   },
   "outputs": [],
   "source": [
    "rates = {'PRODUCT':1, 'CART':2, 'PURCHASE':3}"
   ]
  },
  {
   "cell_type": "code",
   "execution_count": 21,
   "metadata": {
    "ExecuteTime": {
     "end_time": "2019-11-28T19:07:47.982438Z",
     "start_time": "2019-11-28T19:07:45.396970Z"
    }
   },
   "outputs": [],
   "source": [
    "#создаем матрицу взаимодейстий (товар х пользователи)\n",
    "coo = coo_matrix((np.array([rates[i] for i in I.page_type.values]),(I.product_id.values, I.vid.values)))\n",
    "#I2 = coo_matrix((I.product_id.max(), I.vid.max()), dtype=np.int8)"
   ]
  },
  {
   "cell_type": "code",
   "execution_count": 22,
   "metadata": {
    "ExecuteTime": {
     "end_time": "2019-11-28T19:07:57.598970Z",
     "start_time": "2019-11-28T19:07:47.984808Z"
    }
   },
   "outputs": [],
   "source": [
    "#понижаем ее размерность\n",
    "svd = TruncatedSVD(n_components=2)\n",
    "coo2 =svd.fit_transform(coo)\n"
   ]
  },
  {
   "cell_type": "code",
   "execution_count": 23,
   "metadata": {
    "ExecuteTime": {
     "end_time": "2019-11-28T19:07:57.954227Z",
     "start_time": "2019-11-28T19:07:57.604405Z"
    }
   },
   "outputs": [],
   "source": [
    "p_df = pd.DataFrame(data={'product_id':range(len(coo2[:,0])),'x':[i for i in coo2[:,0]], 'y':[i for i in coo2[:,1]]})"
   ]
  },
  {
   "cell_type": "code",
   "execution_count": 24,
   "metadata": {
    "ExecuteTime": {
     "end_time": "2019-11-28T19:07:58.603955Z",
     "start_time": "2019-11-28T19:07:57.957198Z"
    }
   },
   "outputs": [],
   "source": [
    "p_df.head()\n",
    "p_df =p_df[p_df.product_id.isin(I.product_id)]"
   ]
  },
  {
   "cell_type": "code",
   "execution_count": 25,
   "metadata": {
    "ExecuteTime": {
     "end_time": "2019-11-28T19:07:58.622280Z",
     "start_time": "2019-11-28T19:07:58.606176Z"
    }
   },
   "outputs": [
    {
     "data": {
      "text/html": [
       "<div>\n",
       "<style scoped>\n",
       "    .dataframe tbody tr th:only-of-type {\n",
       "        vertical-align: middle;\n",
       "    }\n",
       "\n",
       "    .dataframe tbody tr th {\n",
       "        vertical-align: top;\n",
       "    }\n",
       "\n",
       "    .dataframe thead th {\n",
       "        text-align: right;\n",
       "    }\n",
       "</style>\n",
       "<table border=\"1\" class=\"dataframe\">\n",
       "  <thead>\n",
       "    <tr style=\"text-align: right;\">\n",
       "      <th></th>\n",
       "      <th>product_id</th>\n",
       "      <th>x</th>\n",
       "      <th>y</th>\n",
       "    </tr>\n",
       "  </thead>\n",
       "  <tbody>\n",
       "    <tr>\n",
       "      <td>0</td>\n",
       "      <td>0</td>\n",
       "      <td>0.000337</td>\n",
       "      <td>4.634345e-05</td>\n",
       "    </tr>\n",
       "    <tr>\n",
       "      <td>1</td>\n",
       "      <td>1</td>\n",
       "      <td>0.000097</td>\n",
       "      <td>-1.843927e-04</td>\n",
       "    </tr>\n",
       "    <tr>\n",
       "      <td>3</td>\n",
       "      <td>3</td>\n",
       "      <td>0.000002</td>\n",
       "      <td>8.782123e-05</td>\n",
       "    </tr>\n",
       "    <tr>\n",
       "      <td>4</td>\n",
       "      <td>4</td>\n",
       "      <td>0.000034</td>\n",
       "      <td>4.494056e-07</td>\n",
       "    </tr>\n",
       "    <tr>\n",
       "      <td>5</td>\n",
       "      <td>5</td>\n",
       "      <td>0.002145</td>\n",
       "      <td>7.440253e-04</td>\n",
       "    </tr>\n",
       "  </tbody>\n",
       "</table>\n",
       "</div>"
      ],
      "text/plain": [
       "   product_id         x             y\n",
       "0           0  0.000337  4.634345e-05\n",
       "1           1  0.000097 -1.843927e-04\n",
       "3           3  0.000002  8.782123e-05\n",
       "4           4  0.000034  4.494056e-07\n",
       "5           5  0.002145  7.440253e-04"
      ]
     },
     "execution_count": 25,
     "metadata": {},
     "output_type": "execute_result"
    }
   ],
   "source": [
    "#дата фрейм - товаром и их двумерных фичей\n",
    "p_df.head()"
   ]
  },
  {
   "cell_type": "code",
   "execution_count": 26,
   "metadata": {
    "ExecuteTime": {
     "end_time": "2019-11-28T19:07:59.007754Z",
     "start_time": "2019-11-28T19:07:58.627459Z"
    }
   },
   "outputs": [],
   "source": [
    "p_df['angle'] = [calc_angle(point) for point in p_df[['x','y']].values[:,:]]"
   ]
  },
  {
   "cell_type": "code",
   "execution_count": 27,
   "metadata": {
    "ExecuteTime": {
     "end_time": "2019-11-28T19:07:59.065018Z",
     "start_time": "2019-11-28T19:07:59.010254Z"
    }
   },
   "outputs": [
    {
     "data": {
      "text/html": [
       "<div>\n",
       "<style scoped>\n",
       "    .dataframe tbody tr th:only-of-type {\n",
       "        vertical-align: middle;\n",
       "    }\n",
       "\n",
       "    .dataframe tbody tr th {\n",
       "        vertical-align: top;\n",
       "    }\n",
       "\n",
       "    .dataframe thead th {\n",
       "        text-align: right;\n",
       "    }\n",
       "</style>\n",
       "<table border=\"1\" class=\"dataframe\">\n",
       "  <thead>\n",
       "    <tr style=\"text-align: right;\">\n",
       "      <th></th>\n",
       "      <th>id</th>\n",
       "      <th>x</th>\n",
       "      <th>y</th>\n",
       "      <th>angle</th>\n",
       "    </tr>\n",
       "  </thead>\n",
       "  <tbody>\n",
       "    <tr>\n",
       "      <td>0</td>\n",
       "      <td>108281</td>\n",
       "      <td>0.372808</td>\n",
       "      <td>-0.277538</td>\n",
       "      <td>-0.639942</td>\n",
       "    </tr>\n",
       "    <tr>\n",
       "      <td>636</td>\n",
       "      <td>398257</td>\n",
       "      <td>0.372808</td>\n",
       "      <td>-0.277538</td>\n",
       "      <td>-0.639942</td>\n",
       "    </tr>\n",
       "    <tr>\n",
       "      <td>637</td>\n",
       "      <td>260095</td>\n",
       "      <td>0.372808</td>\n",
       "      <td>-0.277538</td>\n",
       "      <td>-0.639942</td>\n",
       "    </tr>\n",
       "    <tr>\n",
       "      <td>638</td>\n",
       "      <td>390836</td>\n",
       "      <td>0.372808</td>\n",
       "      <td>-0.277538</td>\n",
       "      <td>-0.639942</td>\n",
       "    </tr>\n",
       "    <tr>\n",
       "      <td>639</td>\n",
       "      <td>445126</td>\n",
       "      <td>0.372808</td>\n",
       "      <td>-0.277538</td>\n",
       "      <td>-0.639942</td>\n",
       "    </tr>\n",
       "  </tbody>\n",
       "</table>\n",
       "</div>"
      ],
      "text/plain": [
       "         id         x         y     angle\n",
       "0    108281  0.372808 -0.277538 -0.639942\n",
       "636  398257  0.372808 -0.277538 -0.639942\n",
       "637  260095  0.372808 -0.277538 -0.639942\n",
       "638  390836  0.372808 -0.277538 -0.639942\n",
       "639  445126  0.372808 -0.277538 -0.639942"
      ]
     },
     "execution_count": 27,
     "metadata": {},
     "output_type": "execute_result"
    }
   ],
   "source": [
    "p_df=t_df.sort_values(by='angle')\n",
    "p_df.head()"
   ]
  },
  {
   "cell_type": "code",
   "execution_count": 28,
   "metadata": {
    "ExecuteTime": {
     "end_time": "2019-11-28T19:07:59.072862Z",
     "start_time": "2019-11-28T19:07:59.068726Z"
    }
   },
   "outputs": [],
   "source": [
    "#save csv\n",
    "with open('RusetskyAlexander2.csv','w') as out:\n",
    "    for idx in range(p_df.shape[0]-5):\n",
    "        row =        p_df.iloc[idx] \n",
    "        cur_angle = row.angle\n",
    "        for i in range(1,6):\n",
    "            out.write(str(int(row.id))+' '+str(int(p_df.iloc[idx + i].id))+' '+str(p_df.iloc[idx + i].angle - cur_angle)+'\\n' )\n",
    "    for idx in range(p_df.shape[0]-1, p_df.shape[0]-1-5,-1):\n",
    "        row =        p_df.iloc[idx] \n",
    "        cur_angle = row.angle\n",
    "        for i in range(1,6):\n",
    "            out.write(str(int(row.id))+' '+str(int(p_df.iloc[idx - i].id))+' '+str(p_df.iloc[idx - i].angle - cur_angle)+'\\n' )"
   ]
  },
  {
   "cell_type": "markdown",
   "metadata": {
    "ExecuteTime": {
     "end_time": "2019-11-12T16:04:55.310135Z",
     "start_time": "2019-11-12T16:04:55.245363Z"
    }
   },
   "source": [
    "# Матричная факторизация"
   ]
  },
  {
   "cell_type": "code",
   "execution_count": 29,
   "metadata": {
    "ExecuteTime": {
     "end_time": "2019-11-28T19:07:59.087687Z",
     "start_time": "2019-11-28T19:07:59.077914Z"
    }
   },
   "outputs": [
    {
     "data": {
      "text/plain": [
       "(509400, 975006)"
      ]
     },
     "execution_count": 29,
     "metadata": {},
     "output_type": "execute_result"
    }
   ],
   "source": [
    "coo.shape"
   ]
  },
  {
   "cell_type": "code",
   "execution_count": 30,
   "metadata": {
    "ExecuteTime": {
     "end_time": "2019-11-28T19:07:59.097492Z",
     "start_time": "2019-11-28T19:07:59.090584Z"
    }
   },
   "outputs": [],
   "source": [
    "model = LightFM(loss='warp', no_components=100, learning_rate=0.03, learning_schedule=\"adadelta\")"
   ]
  },
  {
   "cell_type": "code",
   "execution_count": 31,
   "metadata": {
    "ExecuteTime": {
     "end_time": "2019-11-28T19:15:05.828920Z",
     "start_time": "2019-11-28T19:07:59.101029Z"
    }
   },
   "outputs": [
    {
     "name": "stdout",
     "output_type": "stream",
     "text": [
      "Epoch 0\n",
      "Epoch 1\n",
      "Epoch 2\n",
      "Epoch 3\n",
      "Epoch 4\n"
     ]
    },
    {
     "data": {
      "text/plain": [
       "<lightfm.lightfm.LightFM at 0x1a2662aad0>"
      ]
     },
     "execution_count": 31,
     "metadata": {},
     "output_type": "execute_result"
    }
   ],
   "source": [
    "model.fit(coo, epochs=5, num_threads=40, verbose=True)"
   ]
  },
  {
   "cell_type": "code",
   "execution_count": 32,
   "metadata": {
    "ExecuteTime": {
     "end_time": "2019-11-28T19:15:05.840146Z",
     "start_time": "2019-11-28T19:15:05.831946Z"
    }
   },
   "outputs": [],
   "source": [
    "user_feature_bias, user_feature_embeddings = model.get_user_representations()\n",
    "item_feature_bias, item_feature_embeddings = model.get_item_representations()"
   ]
  },
  {
   "cell_type": "code",
   "execution_count": 33,
   "metadata": {
    "ExecuteTime": {
     "end_time": "2019-11-28T19:15:07.948019Z",
     "start_time": "2019-11-28T19:15:05.845619Z"
    }
   },
   "outputs": [],
   "source": [
    "#use user_feature_emb (такая входная матрица)\n",
    "#сжимаем \n",
    "svd = TruncatedSVD(n_components=2)\n",
    "coo3 =svd.fit_transform(user_feature_embeddings)"
   ]
  },
  {
   "cell_type": "code",
   "execution_count": 34,
   "metadata": {
    "ExecuteTime": {
     "end_time": "2019-11-28T19:15:08.900611Z",
     "start_time": "2019-11-28T19:15:07.950073Z"
    }
   },
   "outputs": [],
   "source": [
    "m_df = pd.DataFrame(data={'product_id':range(len(coo3[:,0])),'x':[i for i in coo3[:,0]], 'y':[i for i in coo3[:,1]]})\n",
    "m_df =m_df[m_df.product_id.isin(I.product_id)]"
   ]
  },
  {
   "cell_type": "code",
   "execution_count": 35,
   "metadata": {
    "ExecuteTime": {
     "end_time": "2019-11-28T19:15:09.292967Z",
     "start_time": "2019-11-28T19:15:08.902902Z"
    }
   },
   "outputs": [],
   "source": [
    "m_df['angle'] = [calc_angle(point) for point in m_df[['x','y']].values[:,:]]"
   ]
  },
  {
   "cell_type": "code",
   "execution_count": 36,
   "metadata": {
    "ExecuteTime": {
     "end_time": "2019-11-28T19:15:09.354258Z",
     "start_time": "2019-11-28T19:15:09.295443Z"
    }
   },
   "outputs": [
    {
     "data": {
      "text/html": [
       "<div>\n",
       "<style scoped>\n",
       "    .dataframe tbody tr th:only-of-type {\n",
       "        vertical-align: middle;\n",
       "    }\n",
       "\n",
       "    .dataframe tbody tr th {\n",
       "        vertical-align: top;\n",
       "    }\n",
       "\n",
       "    .dataframe thead th {\n",
       "        text-align: right;\n",
       "    }\n",
       "</style>\n",
       "<table border=\"1\" class=\"dataframe\">\n",
       "  <thead>\n",
       "    <tr style=\"text-align: right;\">\n",
       "      <th></th>\n",
       "      <th>id</th>\n",
       "      <th>x</th>\n",
       "      <th>y</th>\n",
       "      <th>angle</th>\n",
       "    </tr>\n",
       "  </thead>\n",
       "  <tbody>\n",
       "    <tr>\n",
       "      <td>0</td>\n",
       "      <td>108281</td>\n",
       "      <td>0.372808</td>\n",
       "      <td>-0.277538</td>\n",
       "      <td>-0.639942</td>\n",
       "    </tr>\n",
       "    <tr>\n",
       "      <td>636</td>\n",
       "      <td>398257</td>\n",
       "      <td>0.372808</td>\n",
       "      <td>-0.277538</td>\n",
       "      <td>-0.639942</td>\n",
       "    </tr>\n",
       "    <tr>\n",
       "      <td>637</td>\n",
       "      <td>260095</td>\n",
       "      <td>0.372808</td>\n",
       "      <td>-0.277538</td>\n",
       "      <td>-0.639942</td>\n",
       "    </tr>\n",
       "    <tr>\n",
       "      <td>638</td>\n",
       "      <td>390836</td>\n",
       "      <td>0.372808</td>\n",
       "      <td>-0.277538</td>\n",
       "      <td>-0.639942</td>\n",
       "    </tr>\n",
       "    <tr>\n",
       "      <td>639</td>\n",
       "      <td>445126</td>\n",
       "      <td>0.372808</td>\n",
       "      <td>-0.277538</td>\n",
       "      <td>-0.639942</td>\n",
       "    </tr>\n",
       "  </tbody>\n",
       "</table>\n",
       "</div>"
      ],
      "text/plain": [
       "         id         x         y     angle\n",
       "0    108281  0.372808 -0.277538 -0.639942\n",
       "636  398257  0.372808 -0.277538 -0.639942\n",
       "637  260095  0.372808 -0.277538 -0.639942\n",
       "638  390836  0.372808 -0.277538 -0.639942\n",
       "639  445126  0.372808 -0.277538 -0.639942"
      ]
     },
     "execution_count": 36,
     "metadata": {},
     "output_type": "execute_result"
    }
   ],
   "source": [
    "m_df=t_df.sort_values(by='angle')\n",
    "m_df.head()"
   ]
  },
  {
   "cell_type": "code",
   "execution_count": 37,
   "metadata": {
    "ExecuteTime": {
     "end_time": "2019-11-28T19:15:09.363442Z",
     "start_time": "2019-11-28T19:15:09.358151Z"
    }
   },
   "outputs": [],
   "source": [
    "with open('RusetskyAlexander3.csv','w') as out:\n",
    "    for idx in range(m_df.shape[0]-5):\n",
    "        row =        m_df.iloc[idx] \n",
    "        cur_angle = row.angle\n",
    "        for i in range(1,6):\n",
    "            out.write(str(int(row.id))+' '+str(int(m_df.iloc[idx + i].id))+' '+str(m_df.iloc[idx + i].angle - cur_angle)+'\\n' )\n",
    "    for idx in range(m_df.shape[0]-1, m_df.shape[0]-1-5,-1):\n",
    "        row =        m_df.iloc[idx] \n",
    "        cur_angle = row.angle\n",
    "        for i in range(1,6):\n",
    "            out.write(str(int(row.id))+' '+str(int(m_df.iloc[idx - i].id))+' '+str(m_df.iloc[idx - i].angle - cur_angle)+'\\n' )"
   ]
  }
 ],
 "metadata": {
  "kernelspec": {
   "display_name": "Python 3",
   "language": "python",
   "name": "python3"
  },
  "language_info": {
   "codemirror_mode": {
    "name": "ipython",
    "version": 3
   },
   "file_extension": ".py",
   "mimetype": "text/x-python",
   "name": "python",
   "nbconvert_exporter": "python",
   "pygments_lexer": "ipython3",
   "version": "3.7.4"
  }
 },
 "nbformat": 4,
 "nbformat_minor": 2
}
